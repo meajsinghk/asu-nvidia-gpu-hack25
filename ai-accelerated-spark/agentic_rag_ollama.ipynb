{
 "cells": [
  {
   "cell_type": "markdown",
   "id": "1f625337",
   "metadata": {},
   "source": [
    "# Agentic RAG with Local Ollama Model\n",
    "This notebook demonstrates how to build a Retrieval-Augmented Generation (RAG) agent using LangGraph, LangChain, and a local  model run via Ollama.\n",
    "\n",
    "Adapted from: https://langchain-ai.github.io/langgraph/tutorials/rag/langgraph_agentic_rag/\n",
    "\n",
    "## Materials\n",
    "This notebook and all materials referenced here can be found on Sol `/data/sse/ai-accelerated-spark`."
   ]
  },
  {
   "cell_type": "markdown",
   "id": "9dbc8378-b454-48d8-a95c-563521334562",
   "metadata": {},
   "source": [
    "## 1. Import libraries"
   ]
  },
  {
   "cell_type": "code",
   "execution_count": 1,
   "id": "13cfaace",
   "metadata": {},
   "outputs": [
    {
     "name": "stderr",
     "output_type": "stream",
     "text": [
      "2025-06-24 19:43:42.266120: E external/local_xla/xla/stream_executor/cuda/cuda_fft.cc:467] Unable to register cuFFT factory: Attempting to register factory for plugin cuFFT when one has already been registered\n",
      "WARNING: All log messages before absl::InitializeLog() is called are written to STDERR\n",
      "E0000 00:00:1750819422.438538 1157730 cuda_dnn.cc:8579] Unable to register cuDNN factory: Attempting to register factory for plugin cuDNN when one has already been registered\n",
      "E0000 00:00:1750819422.490892 1157730 cuda_blas.cc:1407] Unable to register cuBLAS factory: Attempting to register factory for plugin cuBLAS when one has already been registered\n",
      "W0000 00:00:1750819422.839675 1157730 computation_placer.cc:177] computation placer already registered. Please check linkage and avoid linking the same target more than once.\n",
      "W0000 00:00:1750819422.839690 1157730 computation_placer.cc:177] computation placer already registered. Please check linkage and avoid linking the same target more than once.\n",
      "W0000 00:00:1750819422.839692 1157730 computation_placer.cc:177] computation placer already registered. Please check linkage and avoid linking the same target more than once.\n",
      "W0000 00:00:1750819422.839693 1157730 computation_placer.cc:177] computation placer already registered. Please check linkage and avoid linking the same target more than once.\n",
      "2025-06-24 19:43:42.874275: I tensorflow/core/platform/cpu_feature_guard.cc:210] This TensorFlow binary is optimized to use available CPU instructions in performance-critical operations.\n",
      "To enable the following instructions: AVX2 FMA, in other operations, rebuild TensorFlow with the appropriate compiler flags.\n"
     ]
    }
   ],
   "source": [
    "from langchain_core.prompts import PromptTemplate\n",
    "from langchain_core.messages import HumanMessage, AIMessage, BaseMessage\n",
    "from langchain_core.tools import Tool\n",
    "from langgraph.graph import Graph\n",
    "from langchain.text_splitter import CharacterTextSplitter\n",
    "from sentence_transformers import SentenceTransformer\n",
    "from transformers import pipeline\n",
    "import torch\n",
    "from typing import List\n",
    "from pydantic import BaseModel, Field\n",
    "import os\n",
    "\n",
    "os.environ[\"USER_AGENT\"] = \"Mozilla/5.0 (X11; Ubuntu; Linux x86_64; rv:109.0) Gecko/20100101 Firefox/109.0\""
   ]
  },
  {
   "cell_type": "markdown",
   "id": "59114acf",
   "metadata": {},
   "source": [
    "## 2. Preprocess documents\n",
    "### 2.1. Fetch documents"
   ]
  },
  {
   "cell_type": "code",
   "execution_count": 2,
   "id": "24bf7599",
   "metadata": {},
   "outputs": [],
   "source": [
    "from langchain_community.document_loaders import WebBaseLoader\n",
    "\n",
    "urls = [\n",
    "    \"https://medium.com/cupy-team/announcing-cupy-v13-66979ee7fab0\",\n",
    "    \"https://www.unum.cloud/blog/2022-01-26-cupy\",\n",
    "    \"https://medium.com/rapids-ai/easy-cpu-gpu-arrays-and-dataframes-run-your-dask-code-where-youd-like-e349d92351d\"\n",
    "]\n",
    "\n",
    "docs = [WebBaseLoader(url).load() for url in urls]"
   ]
  },
  {
   "cell_type": "code",
   "execution_count": 3,
   "id": "4d6bc96c-c2c6-4ca8-af17-1a0dc06d46cd",
   "metadata": {},
   "outputs": [
    {
     "data": {
      "text/plain": [
       "'Announcing CuPy v13. We are happy to announce that CuPy v13… | by Kenichi Maehashi | CuPy | MediumSitemapOpen in appSign upSign inMedium LogoWriteSign upSign inCuPy·NumPy & SciPy for GPU − News from the CuPy TeamAnnouncing CuPy v13Kenichi MaehashiFollow3 min read·Jan 18, 2024--ListenShareWe are happy to announce that CuPy v13 is now available. This new major release contains the effort of over 270 pull requests, including more SciPy-compatible routines and better packaging. Let’s check out the highlights:Signal Processing APIs − `cupyx.scipy.signal`In this release, we have added 140 signal processing routines that are compatible with SciPy’s scipy.signal.* APIs. The API Reference lists all the available signal functions. This work has been done by Evgani Burovski and Edgar Andrés Margffoy Tuay from Quansight, under the support of CZI’s Essential OSS for Science program.We would also like to highlight cuSignal’s contributions in this release. cuSignal is a library developed by the NVIDI'"
      ]
     },
     "execution_count": 3,
     "metadata": {},
     "output_type": "execute_result"
    }
   ],
   "source": [
    "docs[0][0].page_content.strip()[:1000]"
   ]
  },
  {
   "cell_type": "markdown",
   "id": "b6dcb754-10f3-4a16-b522-c1ec4cbd812b",
   "metadata": {},
   "source": [
    "### 2.2. Split the fetched documents into smaller chunks for indexing into the vectorstore"
   ]
  },
  {
   "cell_type": "code",
   "execution_count": 4,
   "id": "97649da8-f2bc-49fd-be94-009b59a1a5e5",
   "metadata": {},
   "outputs": [],
   "source": [
    "from langchain_text_splitters import RecursiveCharacterTextSplitter\n",
    "\n",
    "docs_list = [item for sublist in docs for item in sublist]\n",
    "\n",
    "text_splitter = RecursiveCharacterTextSplitter.from_tiktoken_encoder(\n",
    "    chunk_size=100, chunk_overlap=50\n",
    ")\n",
    "doc_splits = text_splitter.split_documents(docs_list)"
   ]
  },
  {
   "cell_type": "code",
   "execution_count": 5,
   "id": "15cad859-5123-4811-b53a-a58ee9be9232",
   "metadata": {},
   "outputs": [
    {
     "data": {
      "text/plain": [
       "'Announcing CuPy v13. We are happy to announce that CuPy v13… | by Kenichi Maehashi | CuPy | MediumSitemapOpen in appSign upSign inMedium LogoWriteSign upSign inCuPy·NumPy & SciPy for GPU − News from the CuPy TeamAnnouncing CuPy v13Kenichi MaehashiFollow3 min read·Jan 18, 2024--ListenShareWe are happy to announce that CuPy v13 is now'"
      ]
     },
     "execution_count": 5,
     "metadata": {},
     "output_type": "execute_result"
    }
   ],
   "source": [
    "doc_splits[0].page_content"
   ]
  },
  {
   "cell_type": "markdown",
   "id": "5dbf0613",
   "metadata": {},
   "source": [
    "## 3.Create a retriever tool\n",
    "### 3.1. Use an in-memory vector store and all-MiniLM-L6-V2 embeddings model"
   ]
  },
  {
   "cell_type": "code",
   "execution_count": 6,
   "id": "edb39231",
   "metadata": {},
   "outputs": [
    {
     "data": {
      "application/vnd.jupyter.widget-view+json": {
       "model_id": "9a19d9102ead40749c8e28c3b22dd815",
       "version_major": 2,
       "version_minor": 0
      },
      "text/plain": [
       "modules.json:   0%|          | 0.00/349 [00:00<?, ?B/s]"
      ]
     },
     "metadata": {},
     "output_type": "display_data"
    },
    {
     "data": {
      "application/vnd.jupyter.widget-view+json": {
       "model_id": "0a51b96f92b74a8483442ba85521d095",
       "version_major": 2,
       "version_minor": 0
      },
      "text/plain": [
       "config_sentence_transformers.json:   0%|          | 0.00/116 [00:00<?, ?B/s]"
      ]
     },
     "metadata": {},
     "output_type": "display_data"
    },
    {
     "data": {
      "application/vnd.jupyter.widget-view+json": {
       "model_id": "ec226c3b46b549f098758ff35da22db4",
       "version_major": 2,
       "version_minor": 0
      },
      "text/plain": [
       "README.md:   0%|          | 0.00/10.5k [00:00<?, ?B/s]"
      ]
     },
     "metadata": {},
     "output_type": "display_data"
    },
    {
     "data": {
      "application/vnd.jupyter.widget-view+json": {
       "model_id": "cfbfbde14fc54fdab910879dbf7a0a91",
       "version_major": 2,
       "version_minor": 0
      },
      "text/plain": [
       "sentence_bert_config.json:   0%|          | 0.00/53.0 [00:00<?, ?B/s]"
      ]
     },
     "metadata": {},
     "output_type": "display_data"
    },
    {
     "data": {
      "application/vnd.jupyter.widget-view+json": {
       "model_id": "8e16424310254c7c856e0c123af06481",
       "version_major": 2,
       "version_minor": 0
      },
      "text/plain": [
       "config.json:   0%|          | 0.00/612 [00:00<?, ?B/s]"
      ]
     },
     "metadata": {},
     "output_type": "display_data"
    },
    {
     "data": {
      "application/vnd.jupyter.widget-view+json": {
       "model_id": "2f91457c0b7a4f2995d8700e978e06a9",
       "version_major": 2,
       "version_minor": 0
      },
      "text/plain": [
       "model.safetensors:   0%|          | 0.00/90.9M [00:00<?, ?B/s]"
      ]
     },
     "metadata": {},
     "output_type": "display_data"
    },
    {
     "data": {
      "application/vnd.jupyter.widget-view+json": {
       "model_id": "5de62c9ab1e54af5a9c4050475bc38f5",
       "version_major": 2,
       "version_minor": 0
      },
      "text/plain": [
       "tokenizer_config.json:   0%|          | 0.00/350 [00:00<?, ?B/s]"
      ]
     },
     "metadata": {},
     "output_type": "display_data"
    },
    {
     "data": {
      "application/vnd.jupyter.widget-view+json": {
       "model_id": "c98e5101408f402e90882e64f2661d08",
       "version_major": 2,
       "version_minor": 0
      },
      "text/plain": [
       "vocab.txt:   0%|          | 0.00/232k [00:00<?, ?B/s]"
      ]
     },
     "metadata": {},
     "output_type": "display_data"
    },
    {
     "data": {
      "application/vnd.jupyter.widget-view+json": {
       "model_id": "6ecbe4532acf4061beb7ef4eccb7df9c",
       "version_major": 2,
       "version_minor": 0
      },
      "text/plain": [
       "tokenizer.json:   0%|          | 0.00/466k [00:00<?, ?B/s]"
      ]
     },
     "metadata": {},
     "output_type": "display_data"
    },
    {
     "data": {
      "application/vnd.jupyter.widget-view+json": {
       "model_id": "4fff4893d4c34f439cc67b3d9fb2fd0d",
       "version_major": 2,
       "version_minor": 0
      },
      "text/plain": [
       "special_tokens_map.json:   0%|          | 0.00/112 [00:00<?, ?B/s]"
      ]
     },
     "metadata": {},
     "output_type": "display_data"
    },
    {
     "data": {
      "application/vnd.jupyter.widget-view+json": {
       "model_id": "3ab081a627004dd2ab4746210b3354c4",
       "version_major": 2,
       "version_minor": 0
      },
      "text/plain": [
       "config.json:   0%|          | 0.00/190 [00:00<?, ?B/s]"
      ]
     },
     "metadata": {},
     "output_type": "display_data"
    }
   ],
   "source": [
    "from langchain_core.vectorstores import InMemoryVectorStore\n",
    "from langchain_huggingface import HuggingFaceEmbeddings\n",
    "\n",
    "embedding_model = HuggingFaceEmbeddings(model_name=\"all-MiniLM-L6-v2\")\n",
    "\n",
    "vectorstore = InMemoryVectorStore.from_documents(\n",
    "    documents = doc_splits, embedding = embedding_model\n",
    ")\n",
    "retriever = vectorstore.as_retriever()"
   ]
  },
  {
   "cell_type": "code",
   "execution_count": 7,
   "id": "abcb57e5-dcb5-4387-8327-5756c2df4962",
   "metadata": {},
   "outputs": [],
   "source": [
    "# TODO: Use ChromaDB for persistent vectorstore\n",
    "# https://python.langchain.com/docs/integrations/vectorstores/"
   ]
  },
  {
   "cell_type": "markdown",
   "id": "4f517c44-2e14-4614-9290-8d75e7faef4f",
   "metadata": {},
   "source": [
    "### 3.2. Create a retriever tool using LangChain's prebuild `create_retriever_tool`"
   ]
  },
  {
   "cell_type": "code",
   "execution_count": 8,
   "id": "e5278231-c5eb-40ca-94f5-8a74d99a1b88",
   "metadata": {},
   "outputs": [],
   "source": [
    "from langchain.tools.retriever import create_retriever_tool\n",
    "\n",
    "retriever_tool = create_retriever_tool(\n",
    "    retriever,\n",
    "    \"retrieve_python_gpu_acceleration\",\n",
    "    \"Search and return information about accelerating Python code using the GPU with RAPIDS and CuPy.\",\n",
    ")"
   ]
  },
  {
   "cell_type": "markdown",
   "id": "e7fcbee6-e9d6-466f-9c7a-303ca012b469",
   "metadata": {},
   "source": [
    "### 3.3. Test the tool"
   ]
  },
  {
   "cell_type": "code",
   "execution_count": 9,
   "id": "2ba4b915-9cfc-4e71-9ea2-6060cde12d50",
   "metadata": {},
   "outputs": [
    {
     "data": {
      "text/plain": [
       "'chunksize=(2, 5), \\\\chunktype=cupy.ndarray>Now, we can leverage the array.backend configuration to create a CuPy-backed Dask array for random data:>>> with dask.config.set({“array.backend”: “cupy”}):…    darr = da.random.randint(0, 3, size=(10, 20), chunks=(2, 5)) #\\n\\n= rs.randint(0, 3, size=(10, 20), chunks=(2, 5))>>> darrdask.array<randint, shape=(10, 20), dtype=int64, chunksize=(2, 5), \\\\chunktype=cupy.ndarray>Now, we can leverage the array.backend configuration to create a CuPy-backed Dask array for random data:>>> with\\n\\nfor random array creation. Previously, if a user wanted to create a CuPy-backed Dask array, they were required to define an explicit RandomState object in Dask using CuPy. For example, the following code worked prior to Dask 2022.10.0, but seems rather verbose:>>> import cupy>>> import dask.array as da>>> rs = da.random.RandomState(RandomState=cupy.random.RandomState)>>>>>> darr =\\n\\n\\\\chunktype=cupy.ndarray>The chunktype informs us that the array is constructed with cupy.ndarrayobjects instead of numpy.ndarray objects.We’ve also improved the user experience for random array creation. Previously, if a user wanted to create a CuPy-backed Dask array, they were required to define an explicit RandomState object in Dask using CuPy. For example, the following code worked prior to Dask'"
      ]
     },
     "execution_count": 9,
     "metadata": {},
     "output_type": "execute_result"
    }
   ],
   "source": [
    "retriever_tool.invoke({\"query\": \"How can I create a CuPy-backed Dask array for random data?\"})"
   ]
  },
  {
   "cell_type": "markdown",
   "id": "29127ddb-5909-4809-8525-3204ef2d08cf",
   "metadata": {},
   "source": [
    "## 4. Generate query\n",
    "### 4.1. Load local LLM\n",
    "\n",
    "Start ollama using the terminal:\n",
    "```bash\n",
    "module load ollama/0.9.0\n",
    "export OLLAMA_MODELS=/data/datasets/community/ollama\n",
    "ollama-start\n",
    "```\n",
    "\n",
    "Check the available list of models using `ollama list`. Let me know via Slack if you would like to use and test other models."
   ]
  },
  {
   "cell_type": "code",
   "execution_count": 13,
   "id": "e4504022-deee-4190-b681-6dfa9ba5e758",
   "metadata": {},
   "outputs": [],
   "source": [
    "from langchain_ollama import ChatOllama\n",
    "import socket\n",
    "from langchain_ollama.llms import OllamaLLM\n",
    "from langchain.chat_models import init_chat_model\n",
    "\n",
    "host_node = socket.gethostname()\n",
    "llm_model = init_chat_model(\"ollama:qwen3:14b\", temperature=0, base_url=f\"http://vpatel69@{host_node}:11434/\")"
   ]
  },
  {
   "cell_type": "markdown",
   "id": "972da38e-7439-4d43-8fc6-6aafcdf00069",
   "metadata": {},
   "source": [
    "### 4.2. Build a `generate_query_or_respond` node"
   ]
  },
  {
   "cell_type": "code",
   "execution_count": 14,
   "id": "65ecc05d-868d-4228-bc67-bd8ed7b65a44",
   "metadata": {},
   "outputs": [],
   "source": [
    "from langgraph.graph import MessagesState\n",
    "import re\n",
    "\n",
    "def generate_query_or_respond(state: MessagesState):\n",
    "    \"\"\"Call the model to generate a response based on the current state. Given\n",
    "    the question, it will decide to retrieve using the retriever tool, or simply respond to the user.\n",
    "    \"\"\"\n",
    "    response = (\n",
    "        llm_model\n",
    "        .bind_tools([retriever_tool]).invoke(state[\"messages\"])\n",
    "    )\n",
    "    # remove thinking text\n",
    "    content = re.sub(r\"<think>.*</think>\", \"\", response.content, flags=re.DOTALL).strip()\n",
    "    response.content = content\n",
    "    return {\"messages\": [response]}"
   ]
  },
  {
   "cell_type": "markdown",
   "id": "e0091934-a78a-4a46-bdd6-24d62eae69ed",
   "metadata": {},
   "source": [
    "### 4.3. Try a random input"
   ]
  },
  {
   "cell_type": "code",
   "execution_count": 15,
   "id": "6fbc5702-ff03-4934-b664-3d6a8edca463",
   "metadata": {},
   "outputs": [
    {
     "name": "stdout",
     "output_type": "stream",
     "text": [
      "==================================\u001b[1m Ai Message \u001b[0m==================================\n",
      "\n",
      "The color of the sky is typically blue during the day due to a phenomenon called Rayleigh scattering, where shorter wavelengths of light (blue and violet) are scattered more by the atmosphere. However, the tools provided are not applicable for answering this question, as they are focused on Python GPU acceleration techniques. Let me know if you'd like information about that!\n"
     ]
    }
   ],
   "source": [
    "input = {\"messages\": [{\"role\": \"user\", \"content\": \"Hello! What is the color of the sky?\"}]}\n",
    "generate_query_or_respond(input)[\"messages\"][-1].pretty_print()"
   ]
  },
  {
   "cell_type": "markdown",
   "id": "e50e1018-8b5c-405e-ab80-2bfc79e9a7ab",
   "metadata": {},
   "source": [
    "### 4.4. Try semantic search question"
   ]
  },
  {
   "cell_type": "code",
   "execution_count": 16,
   "id": "934dd1bc-fa2c-414c-80f9-cb94b93ffde3",
   "metadata": {},
   "outputs": [
    {
     "name": "stdout",
     "output_type": "stream",
     "text": [
      "==================================\u001b[1m Ai Message \u001b[0m==================================\n",
      "Tool Calls:\n",
      "  retrieve_python_gpu_acceleration (48230ad8-4fbe-4e31-80a1-a67573da4a97)\n",
      " Call ID: 48230ad8-4fbe-4e31-80a1-a67573da4a97\n",
      "  Args:\n",
      "    query: Creating CuPy-backed Dask arrays for random data\n"
     ]
    }
   ],
   "source": [
    "input = {\n",
    "    \"messages\": [\n",
    "        {\n",
    "            \"role\": \"user\",\n",
    "            \"content\": \"How can I create a CuPy-backed Dask array for random data?\",\n",
    "        }\n",
    "    ]\n",
    "}\n",
    "generate_query_or_respond(input)[\"messages\"][-1].pretty_print()"
   ]
  },
  {
   "cell_type": "markdown",
   "id": "eddaf2a9-6dac-4e24-a77d-2ee588ac6eed",
   "metadata": {},
   "source": [
    "## 5. Grade documents\n",
    "### 5.1. Add conditional edge `grade_documents` to determine the relevance of retrieved documents"
   ]
  },
  {
   "cell_type": "code",
   "execution_count": 17,
   "id": "a6294ac9-5927-4f26-ac89-046829bcdfba",
   "metadata": {},
   "outputs": [],
   "source": [
    "from pydantic import BaseModel, Field\n",
    "from typing import Literal\n",
    "\n",
    "GRADE_PROMPT = (\n",
    "    \"You are a grader assessing relevance of a retrieved document to a user question. \\n \"\n",
    "    \"Here is the retrieved document: \\n\\n {context} \\n\\n\"\n",
    "    \"Here is the user question: {question} \\n\"\n",
    "    \"If the document contains keyword(s) or semantic meaning related to the user question, grade it as relevant. \\n\"\n",
    "    \"Give a binary score 'yes' or 'no' score to indicate whether the document is relevant to the question.\"\n",
    ")\n",
    "\n",
    "class GradeDocuments(BaseModel):\n",
    "    \"\"\"Grade documents using a binary score for relevance check.\"\"\"\n",
    "\n",
    "    binary_score: str = Field(\n",
    "        description=\"Relevance score: 'yes' if relevant, or 'no' if not relevant\"\n",
    "    )\n",
    "\n",
    "\n",
    "def grade_documents(\n",
    "    state: MessagesState,\n",
    ") -> Literal[\"generate_answer\", \"rewrite_question\"]:\n",
    "    \"\"\"Determine whether the retrieved documents are relevant to the question.\"\"\"\n",
    "    question = state[\"messages\"][0].content\n",
    "    context = state[\"messages\"][-1].content\n",
    "    \n",
    "\n",
    "    prompt = GRADE_PROMPT.format(question=question, context=context)\n",
    "    response = (\n",
    "        llm_model\n",
    "        .with_structured_output(GradeDocuments).invoke(\n",
    "            [{\"role\": \"user\", \"content\": prompt}]\n",
    "        )\n",
    "    )\n",
    "    score = response.binary_score\n",
    "\n",
    "    if score == \"yes\":\n",
    "        return \"generate_answer\"\n",
    "    else:\n",
    "        return \"rewrite_question\""
   ]
  },
  {
   "cell_type": "markdown",
   "id": "5a918ef9-e933-4f0c-83ce-75d02585a241",
   "metadata": {},
   "source": [
    "### 5.2. Try with irrelevant documents in the tool response"
   ]
  },
  {
   "cell_type": "code",
   "execution_count": 18,
   "id": "00be481b-9484-40db-98c5-f227129cafd9",
   "metadata": {},
   "outputs": [
    {
     "data": {
      "text/plain": [
       "'rewrite_question'"
      ]
     },
     "execution_count": 18,
     "metadata": {},
     "output_type": "execute_result"
    }
   ],
   "source": [
    "from langchain_core.messages import convert_to_messages\n",
    "\n",
    "input = {\n",
    "    \"messages\": convert_to_messages(\n",
    "        [\n",
    "            {\n",
    "                \"role\": \"user\",\n",
    "                \"content\": \"How can I create a CuPy-backed Dask array for random data?\",\n",
    "            },\n",
    "            {\n",
    "                \"role\": \"assistant\",\n",
    "                \"content\": \"\",\n",
    "                \"tool_calls\": [\n",
    "                    {\n",
    "                        \"id\": \"1\",\n",
    "                        \"name\": \"retrieve_python_gpu_acceleration\",\n",
    "                        \"args\": {\"query\": \"creating CuPy-backed Dask arrays for random data\"},\n",
    "                    }\n",
    "                ],\n",
    "            },\n",
    "            {\"role\": \"tool\", \"content\": \"meow\", \"tool_call_id\": \"1\"},\n",
    "        ]\n",
    "    )\n",
    "}\n",
    "grade_documents(input)"
   ]
  },
  {
   "cell_type": "markdown",
   "id": "fdf4e35d-63e6-4658-9ade-c6e835c6e39e",
   "metadata": {},
   "source": [
    "### 5.3. Try with relevant documents"
   ]
  },
  {
   "cell_type": "code",
   "execution_count": 19,
   "id": "0d7119fa-55d5-4179-8bcc-661a68e100b7",
   "metadata": {},
   "outputs": [
    {
     "data": {
      "text/plain": [
       "'generate_answer'"
      ]
     },
     "execution_count": 19,
     "metadata": {},
     "output_type": "execute_result"
    }
   ],
   "source": [
    "input = {\n",
    "    \"messages\": convert_to_messages(\n",
    "        [\n",
    "            {\n",
    "                \"role\": \"user\",\n",
    "                \"content\": \"How can I create a CuPy-backed Dask array for random data?\",\n",
    "            },\n",
    "            {\n",
    "                \"role\": \"assistant\",\n",
    "                \"content\": \"\",\n",
    "                \"tool_calls\": [\n",
    "                    {\n",
    "                        \"id\": \"1\",\n",
    "                        \"name\": \"retrieve_python_gpu_acceleration\",\n",
    "                        \"args\": {\"query\": \"creating CuPy-backed Dask arrays for random data\"},\n",
    "                    }\n",
    "                ],\n",
    "            },\n",
    "            {\n",
    "                \"role\": \"tool\",\n",
    "                \"content\": 'Now, we can leverage the array.backend configuration to create a CuPy-backed Dask array for random data:>>> with dask.config.set({“array.backend”: “cupy”}):…    darr = da.random.randint(0, 3, size=(10, 20), chunks=(2, 5)) #\\n\\n= rs.randint(0, 3, size=(10, 20), chunks=(2, 5))>>> darrdask.array<randint, shape=(10, 20), dtype=int64, chunksize=(2, 5), \\\\chunktype=cupy.ndarray>Now, we can leverage the array.backend configuration to create a CuPy-backed Dask array for random data:>>> with\\n\\nfor random array creation.',\n",
    "                \"tool_call_id\": \"1\",\n",
    "            },\n",
    "        ]\n",
    "    )\n",
    "}\n",
    "grade_documents(input)"
   ]
  },
  {
   "cell_type": "markdown",
   "id": "d6520541-4db0-4db2-839d-66d74494644b",
   "metadata": {},
   "source": [
    "## 6.\n",
    "### 6.1"
   ]
  },
  {
   "cell_type": "code",
   "execution_count": 20,
   "id": "199cb600-4cad-4e9a-80fc-93746877b3b7",
   "metadata": {},
   "outputs": [],
   "source": [
    "REWRITE_PROMPT = (\n",
    "    \"Look at the input and try to reason about the underlying semantic intent / meaning.\\n\"\n",
    "    \"Here is the initial question:\"\n",
    "    \"\\n ------- \\n\"\n",
    "    \"{question}\"\n",
    "    \"\\n ------- \\n\"\n",
    "    \"Formulate an improved question:\"\n",
    ")\n",
    "\n",
    "\n",
    "def rewrite_question(state: MessagesState):\n",
    "    \"\"\"Rewrite the original user question.\"\"\"\n",
    "    messages = state[\"messages\"]\n",
    "    question = messages[0].content\n",
    "    prompt = REWRITE_PROMPT.format(question=question)\n",
    "    response = llm_model.invoke([{\"role\": \"user\", \"content\": prompt}])\n",
    "    # remove thinking text\n",
    "    content = re.sub(r\"<think>.*</think>\", \"\", response.content, flags=re.DOTALL).strip()\n",
    "    response.content = content\n",
    "    return {\"messages\": [{\"role\": \"user\", \"content\": response.content}]}"
   ]
  },
  {
   "cell_type": "markdown",
   "id": "f025fedf-4e70-443f-acae-c384b7163d8f",
   "metadata": {},
   "source": [
    "### 6.2 Test"
   ]
  },
  {
   "cell_type": "code",
   "execution_count": 21,
   "id": "114f4730-0d74-4172-aaf8-9dc8c55a60a3",
   "metadata": {},
   "outputs": [
    {
     "name": "stdout",
     "output_type": "stream",
     "text": [
      "**Improved Question:**  \n",
      "How can I generate a large random dataset using CuPy's GPU acceleration and integrate it with Dask arrays for parallel processing, including the necessary steps to ensure compatibility between CuPy and Dask, optimal chunk sizing, and efficient memory management?  \n",
      "\n",
      "**Rationale for Improvement:**  \n",
      "The revised question explicitly addresses:  \n",
      "1. **Integration of CuPy and Dask** (clarifying the need for compatibility checks).  \n",
      "2. **Use case** (generating large random data for parallel processing).  \n",
      "3. **Implementation details** (chunk sizing, memory management, and best practices).  \n",
      "4. **Underlying intent** (leveraging GPU acceleration with Dask for scalability).  \n",
      "This avoids ambiguity and guides the responder to address both technical steps and performance considerations.\n"
     ]
    }
   ],
   "source": [
    "input = {\n",
    "    \"messages\": convert_to_messages(\n",
    "        [\n",
    "            {\n",
    "                \"role\": \"user\",\n",
    "                \"content\": \"How can I create a CuPy-backed Dask array for random data?\",\n",
    "            },\n",
    "            {\n",
    "                \"role\": \"assistant\",\n",
    "                \"content\": \"\",\n",
    "                \"tool_calls\": [\n",
    "                    {\n",
    "                        \"id\": \"1\",\n",
    "                        \"name\": \"retrieve_python_gpu_acceleration\",\n",
    "                        \"args\": {\"query\": \"creating CuPy-backed Dask arrays for random data\"},\n",
    "                    }\n",
    "                ],\n",
    "            },\n",
    "            {\"role\": \"tool\", \"content\": \"meow\", \"tool_call_id\": \"1\"},\n",
    "        ]\n",
    "    )\n",
    "}\n",
    "\n",
    "response = rewrite_question(input)\n",
    "print(response[\"messages\"][-1][\"content\"])"
   ]
  },
  {
   "cell_type": "markdown",
   "id": "20a0771d-200e-4a1c-9da3-e8a4e82fb480",
   "metadata": {},
   "source": [
    "## 7. Generate an answer\n",
    "### 7.1. Build `generate_answer` node"
   ]
  },
  {
   "cell_type": "code",
   "execution_count": 22,
   "id": "f3472875-cfd6-4b3f-8b39-7a1139bd7ce7",
   "metadata": {},
   "outputs": [],
   "source": [
    "GENERATE_PROMPT = (\n",
    "    \"You are an assistant for question-answering tasks. \"\n",
    "    \"Use the following pieces of retrieved context to answer the question. \"\n",
    "    \"If you don't know the answer, just say that you don't know. \"\n",
    "    \"Use three sentences maximum and keep the answer concise.\\n\"\n",
    "    \"Question: {question} \\n\"\n",
    "    \"Context: {context}\"\n",
    ")\n",
    "\n",
    "\n",
    "def generate_answer(state: MessagesState):\n",
    "    \"\"\"Generate an answer.\"\"\"\n",
    "    question = state[\"messages\"][0].content\n",
    "    context = state[\"messages\"][-1].content\n",
    "    prompt = GENERATE_PROMPT.format(question=question, context=context)\n",
    "    response = llm_model.invoke([{\"role\": \"user\", \"content\": prompt}])\n",
    "    # remove thinking text\n",
    "    content = re.sub(r\"<think>.*</think>\", \"\", response.content, flags=re.DOTALL).strip()\n",
    "    response.content = content\n",
    "    return {\"messages\": [response]}"
   ]
  },
  {
   "cell_type": "markdown",
   "id": "38cd1250-820e-40f8-ad58-c85bca8e2c2e",
   "metadata": {},
   "source": [
    "## 7.2 Test"
   ]
  },
  {
   "cell_type": "code",
   "execution_count": 23,
   "id": "76d74558-2403-4c2c-a50c-944cd63dc501",
   "metadata": {},
   "outputs": [
    {
     "name": "stdout",
     "output_type": "stream",
     "text": [
      "==================================\u001b[1m Ai Message \u001b[0m==================================\n",
      "\n",
      "To create a CuPy-backed Dask array for random data, set the `array.backend` configuration to `\"cupy\"` using `dask.config.set`. Use `da.random.randint` with desired parameters, such as `size=(10, 20)` and `chunks=(2, 5)`. This generates a Dask array with CuPy as the underlying backend.\n"
     ]
    }
   ],
   "source": [
    "input = {\n",
    "    \"messages\": convert_to_messages(\n",
    "        [\n",
    "            {\n",
    "                \"role\": \"user\",\n",
    "                \"content\": \"How can I create a CuPy-backed Dask array for random data?\",\n",
    "            },\n",
    "            {\n",
    "                \"role\": \"assistant\",\n",
    "                \"content\": \"\",\n",
    "                \"tool_calls\": [\n",
    "                    {\n",
    "                        \"id\": \"1\",\n",
    "                        \"name\": \"retrieve_python_gpu_acceleration\",\n",
    "                        \"args\": {\"query\": \"creating CuPy-backed Dask arrays for random data\"},\n",
    "                    }\n",
    "                ],\n",
    "            },\n",
    "            {\n",
    "                \"role\": \"tool\",\n",
    "                \"content\": 'Now, we can leverage the array.backend configuration to create a CuPy-backed Dask array for random data:>>> with dask.config.set({“array.backend”: “cupy”}):…    darr = da.random.randint(0, 3, size=(10, 20), chunks=(2, 5)) #\\n\\n= rs.randint(0, 3, size=(10, 20), chunks=(2, 5))>>> darrdask.array<randint, shape=(10, 20), dtype=int64, chunksize=(2, 5), \\\\chunktype=cupy.ndarray>Now, we can leverage the array.backend configuration to create a CuPy-backed Dask array for random data:>>> with\\n\\nfor random array creation.',\n",
    "                \"tool_call_id\": \"1\",\n",
    "            },\n",
    "        ]\n",
    "    )\n",
    "}\n",
    "\n",
    "response = generate_answer(input)\n",
    "response[\"messages\"][-1].pretty_print()"
   ]
  },
  {
   "cell_type": "markdown",
   "id": "beb5fc5f-b09c-42b1-88d9-f2b6784b2eda",
   "metadata": {},
   "source": [
    "## 8. Assemble the graph"
   ]
  },
  {
   "cell_type": "code",
   "execution_count": 24,
   "id": "49bf2038-5fa5-4e22-a208-4b1167e1cede",
   "metadata": {},
   "outputs": [],
   "source": [
    "from langgraph.graph import StateGraph, START, END\n",
    "from langgraph.prebuilt import ToolNode\n",
    "from langgraph.prebuilt import tools_condition\n",
    "\n",
    "workflow = StateGraph(MessagesState)\n",
    "\n",
    "# Define the nodes we will cycle between\n",
    "workflow.add_node(generate_query_or_respond)\n",
    "workflow.add_node(\"retrieve\", ToolNode([retriever_tool]))\n",
    "workflow.add_node(rewrite_question)\n",
    "workflow.add_node(generate_answer)\n",
    "\n",
    "workflow.add_edge(START, \"generate_query_or_respond\")\n",
    "\n",
    "# Decide whether to retrieve\n",
    "workflow.add_conditional_edges(\n",
    "    \"generate_query_or_respond\",\n",
    "    # Assess LLM decision (call `retriever_tool` tool or respond to the user)\n",
    "    tools_condition,\n",
    "    {\n",
    "        # Translate the condition outputs to nodes in our graph\n",
    "        \"tools\": \"retrieve\",\n",
    "        END: END,\n",
    "    },\n",
    ")\n",
    "\n",
    "# Edges taken after the `action` node is called.\n",
    "workflow.add_conditional_edges(\n",
    "    \"retrieve\",\n",
    "    # Assess agent decision\n",
    "    grade_documents,\n",
    ")\n",
    "workflow.add_edge(\"generate_answer\", END)\n",
    "workflow.add_edge(\"rewrite_question\", \"generate_query_or_respond\")\n",
    "\n",
    "# Compile\n",
    "graph = workflow.compile()"
   ]
  },
  {
   "cell_type": "code",
   "execution_count": 25,
   "id": "d44857e0-4ce3-4a02-ba3b-ade019288936",
   "metadata": {},
   "outputs": [
    {
     "data": {
      "image/png": "[encoded data removed]",
      "text/plain": [
       "<IPython.core.display.Image object>"
      ]
     },
     "metadata": {},
     "output_type": "display_data"
    }
   ],
   "source": [
    "from IPython.display import Image, display\n",
    "\n",
    "display(Image(graph.get_graph().draw_mermaid_png()))"
   ]
  },
  {
   "cell_type": "markdown",
   "id": "17cc9c8a-4a28-49dc-ae10-ca7b8eb42e43",
   "metadata": {},
   "source": [
    "## 9. Run the agentic RAG"
   ]
  },
  {
   "cell_type": "code",
   "execution_count": 26,
   "id": "90d926a1-4f35-42ed-bd08-1027c975644b",
   "metadata": {},
   "outputs": [
    {
     "name": "stdout",
     "output_type": "stream",
     "text": [
      "Update from node generate_query_or_respond\n",
      "==================================\u001b[1m Ai Message \u001b[0m==================================\n",
      "Tool Calls:\n",
      "  retrieve_python_gpu_acceleration (63bcc3bb-e83b-4e99-875f-43e19925416d)\n",
      " Call ID: 63bcc3bb-e83b-4e99-875f-43e19925416d\n",
      "  Args:\n",
      "    query: creating CuPy-backed Dask arrays for random data\n",
      "\n",
      "\n",
      "\n",
      "Update from node retrieve\n",
      "=================================\u001b[1m Tool Message \u001b[0m=================================\n",
      "Name: retrieve_python_gpu_acceleration\n",
      "\n",
      "= rs.randint(0, 3, size=(10, 20), chunks=(2, 5))>>> darrdask.array<randint, shape=(10, 20), dtype=int64, chunksize=(2, 5), \\chunktype=cupy.ndarray>Now, we can leverage the array.backend configuration to create a CuPy-backed Dask array for random data:>>> with\n",
      "\n",
      "chunksize=(2, 5), \\chunktype=cupy.ndarray>Now, we can leverage the array.backend configuration to create a CuPy-backed Dask array for random data:>>> with dask.config.set({“array.backend”: “cupy”}):…    darr = da.random.randint(0, 3, size=(10, 20), chunks=(2, 5)) #\n",
      "\n",
      "for random array creation. Previously, if a user wanted to create a CuPy-backed Dask array, they were required to define an explicit RandomState object in Dask using CuPy. For example, the following code worked prior to Dask 2022.10.0, but seems rather verbose:>>> import cupy>>> import dask.array as da>>> rs = da.random.RandomState(RandomState=cupy.random.RandomState)>>>>>> darr =\n",
      "\n",
      "\\chunktype=cupy.ndarray>The chunktype informs us that the array is constructed with cupy.ndarrayobjects instead of numpy.ndarray objects.We’ve also improved the user experience for random array creation. Previously, if a user wanted to create a CuPy-backed Dask array, they were required to define an explicit RandomState object in Dask using CuPy. For example, the following code worked prior to Dask\n",
      "\n",
      "\n",
      "\n",
      "Update from node generate_answer\n",
      "==================================\u001b[1m Ai Message \u001b[0m==================================\n",
      "\n",
      "To create a CuPy-backed Dask array for random data, set the `array.backend` configuration to `\"cupy\"` using `dask.config.set`. Then use `dask.array.random.randint` with desired parameters, such as `da.random.randint(0, 3, size=(10, 20), chunks=(2, 5))`. This automatically creates arrays with `cupy.ndarray` chunks instead of `numpy.ndarray`.\n",
      "\n",
      "\n",
      "\n"
     ]
    }
   ],
   "source": [
    "for chunk in graph.stream(\n",
    "    {\n",
    "        \"messages\": [\n",
    "            {\n",
    "                \"role\": \"user\",\n",
    "                \"content\": \"How can I create a CuPy-backed Dask array for random data?\",\n",
    "            }\n",
    "        ]\n",
    "    }\n",
    "):\n",
    "    for node, update in chunk.items():\n",
    "        print(\"Update from node\", node)\n",
    "        update[\"messages\"][-1].pretty_print()\n",
    "        print(\"\\n\\n\")"
   ]
  },
  {
   "cell_type": "markdown",
   "id": "9131337e-17ea-49e6-a9aa-b0c4798ddfe1",
   "metadata": {},
   "source": [
    "## 10. Graphic User Interface using Gradio"
   ]
  },
  {
   "cell_type": "code",
   "execution_count": 27,
   "id": "4d135bb8-88ae-4cc1-9a5a-5ffde1232826",
   "metadata": {},
   "outputs": [
    {
     "name": "stdout",
     "output_type": "stream",
     "text": [
      "* Running on local URL:  http://127.0.0.1:7861\n",
      "* Running on public URL: https://292845baf2334672d4.gradio.live\n",
      "\n",
      "This share link expires in 1 week. For free permanent hosting and GPU upgrades, run `gradio deploy` from the terminal in the working directory to deploy to Hugging Face Spaces (https://huggingface.co/spaces)\n"
     ]
    },
    {
     "data": {
      "text/html": [
       "<div><iframe src=\"https://292845baf2334672d4.gradio.live\" width=\"100%\" height=\"500\" allow=\"autoplay; camera; microphone; clipboard-read; clipboard-write;\" frameborder=\"0\" allowfullscreen></iframe></div>"
      ],
      "text/plain": [
       "<IPython.core.display.HTML object>"
      ]
     },
     "metadata": {},
     "output_type": "display_data"
    },
    {
     "data": {
      "text/plain": []
     },
     "execution_count": 27,
     "metadata": {},
     "output_type": "execute_result"
    }
   ],
   "source": [
    "import gradio as gr\n",
    "\n",
    "def ask_graph(user_input, chat_history):\n",
    "    result = graph.invoke({\n",
    "        \"messages\": [\n",
    "            {\"role\": \"user\", \"content\": user_input}\n",
    "        ]\n",
    "    })\n",
    "\n",
    "    response = result[\"messages\"][-1].content\n",
    "\n",
    "    if not chat_history:\n",
    "        response = [{\"role\": \"user\", \"content\": user_input}, {\"role\": \"assistant\", \"content\": response}]\n",
    "    else:\n",
    "        response = chat_history + [{\"role\": \"user\", \"content\": user_input}, {\"role\": \"assistant\", \"content\": response}]\n",
    "\n",
    "    return \"\", response\n",
    "\n",
    "def clear_conversation():\n",
    "    return \"\", \"\"\n",
    "\n",
    "with gr.Blocks(fill_height=True, fill_width=True) as demo:\n",
    "    gr.Markdown(\"### Agentic RAG\")\n",
    "\n",
    "    with gr.Column():\n",
    "\n",
    "        with gr.Row():\n",
    "            chatbot = gr.Chatbot(height=350, type=\"messages\")\n",
    "\n",
    "        with gr.Row():\n",
    "            with gr.Column(scale=4):\n",
    "                query_input = gr.Textbox(\n",
    "                    label=\"Enter text here\", placeholder=\"Ask something...\", lines=1\n",
    "                    )\n",
    "            with gr.Column(scale=1):\n",
    "                with gr.Row():\n",
    "                    submit_btn = gr.Button(\"⬆\")\n",
    "                # 🧹 Clear button\n",
    "                with gr.Row():\n",
    "                    clear_btn = gr.Button(\"🧹 Clear Conversation\")\n",
    "\n",
    "        submit_btn.click(\n",
    "            fn=ask_graph,\n",
    "            inputs=[query_input, chatbot],\n",
    "            outputs=[query_input, chatbot],\n",
    "        )\n",
    "\n",
    "        query_input.submit(\n",
    "            fn=ask_graph,\n",
    "            inputs=[query_input, chatbot],\n",
    "            outputs=[query_input, chatbot],\n",
    "        )\n",
    "\n",
    "        clear_btn.click(\n",
    "            fn=clear_conversation,\n",
    "            outputs=[query_input, chatbot],\n",
    "        )\n",
    "\n",
    "demo.launch(share=True)"
   ]
  },
  {
   "cell_type": "code",
   "execution_count": null,
   "id": "8fd938c7-4ccb-402d-85e2-fee9619598cd",
   "metadata": {},
   "outputs": [],
   "source": []
  }
 ],
 "metadata": {
  "kernelspec": {
   "display_name": "genai25.06",
   "language": "python",
   "name": "genai25.06"
  },
  "language_info": {
   "codemirror_mode": {
    "name": "ipython",
    "version": 3
   },
   "file_extension": ".py",
   "mimetype": "text/x-python",
   "name": "python",
   "nbconvert_exporter": "python",
   "pygments_lexer": "ipython3",
   "version": "3.12.11"
  }
 },
 "nbformat": 4,
 "nbformat_minor": 5
}
