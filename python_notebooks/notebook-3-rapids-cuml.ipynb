{
 "cells": [
  {
   "cell_type": "markdown",
   "id": "2e9ec28c-395d-4e29-a716-d2a35fb1465c",
   "metadata": {},
   "source": [
    "## **Notebook 2: Introduction to RAPIDS cuML**"
   ]
  },
  {
   "cell_type": "markdown",
   "id": "91b771bc-3ca4-4713-91e7-f3661faa1715",
   "metadata": {},
   "source": [
    "This notebook will guide you through the basics of cuML, demonstrating its capabilities in accelerating common machine learning algorithms and highlighting key concepts such as performance comparisons with CPU-based implementations.\n",
    "\n",
    "Throughout this tutorial, we'll explore:\n",
    "1. The similarities between scikit-learn and cuML, and how to use cuML's scikit-learn compatible API\n",
    "2. Performance comparisons between CPU-based scikit-learn and GPU-accelerated cuML operations\n",
    "3. Practical examples using real-world data, including linear regression and K-means clustering\n",
    "4. Visualization of clustering results using matplotlib\n",
    "\n",
    "---\n",
    "**GPU-Accelerated Data Science with cuML**"
   ]
  },
  {
   "cell_type": "markdown",
   "id": "93ae0676-21d9-43be-b6a5-c5e5f72da341",
   "metadata": {},
   "source": [
    "After our data has been preprocessed, we often want to build a model so as to understand the relationships between different variables in our data. [Scikit-Learn](https://github.com/scikit-learn/scikit-learn) is an incredibly powerful toolkit that allows data scientists to quickly build models from their data. Below we show a simple example of how to create a Linear Regression model using a California housing dataset that is part of the sklearn dataset library. `X` contains the feature variables and `y` contains the target variables."
   ]
  },
  {
   "cell_type": "code",
   "execution_count": 1,
   "id": "3c8c6e60-a009-4c27-8862-0cbdfdea9fde",
   "metadata": {},
   "outputs": [],
   "source": [
    "from sklearn.datasets import fetch_california_housing\n",
    "import pandas as pd\n",
    "import sklearn\n",
    "\n",
    "california = fetch_california_housing()\n",
    "X = pd.DataFrame(california.data, columns=california.feature_names)\n",
    "y = pd.Series(california.target)"
   ]
  },
  {
   "cell_type": "markdown",
   "id": "e13071bd-b11c-4133-bef0-a3c06b4586b1",
   "metadata": {},
   "source": [
    "Next, we split the data into training and test sets. The `copy_X` parameter means the input array will be overwritten during fitting. Finally, we training the model on the provided training data."
   ]
  },
  {
   "cell_type": "code",
   "execution_count": 3,
   "id": "fa50b366-b94e-4753-a922-6a35cfd17c66",
   "metadata": {},
   "outputs": [
    {
     "data": {
      "text/html": [
       "<style>#sk-container-id-2 {\n",
       "  /* Definition of color scheme common for light and dark mode */\n",
       "  --sklearn-color-text: #000;\n",
       "  --sklearn-color-text-muted: #666;\n",
       "  --sklearn-color-line: gray;\n",
       "  /* Definition of color scheme for unfitted estimators */\n",
       "  --sklearn-color-unfitted-level-0: #fff5e6;\n",
       "  --sklearn-color-unfitted-level-1: #f6e4d2;\n",
       "  --sklearn-color-unfitted-level-2: #ffe0b3;\n",
       "  --sklearn-color-unfitted-level-3: chocolate;\n",
       "  /* Definition of color scheme for fitted estimators */\n",
       "  --sklearn-color-fitted-level-0: #f0f8ff;\n",
       "  --sklearn-color-fitted-level-1: #d4ebff;\n",
       "  --sklearn-color-fitted-level-2: #b3dbfd;\n",
       "  --sklearn-color-fitted-level-3: cornflowerblue;\n",
       "\n",
       "  /* Specific color for light theme */\n",
       "  --sklearn-color-text-on-default-background: var(--sg-text-color, var(--theme-code-foreground, var(--jp-content-font-color1, black)));\n",
       "  --sklearn-color-background: var(--sg-background-color, var(--theme-background, var(--jp-layout-color0, white)));\n",
       "  --sklearn-color-border-box: var(--sg-text-color, var(--theme-code-foreground, var(--jp-content-font-color1, black)));\n",
       "  --sklearn-color-icon: #696969;\n",
       "\n",
       "  @media (prefers-color-scheme: dark) {\n",
       "    /* Redefinition of color scheme for dark theme */\n",
       "    --sklearn-color-text-on-default-background: var(--sg-text-color, var(--theme-code-foreground, var(--jp-content-font-color1, white)));\n",
       "    --sklearn-color-background: var(--sg-background-color, var(--theme-background, var(--jp-layout-color0, #111)));\n",
       "    --sklearn-color-border-box: var(--sg-text-color, var(--theme-code-foreground, var(--jp-content-font-color1, white)));\n",
       "    --sklearn-color-icon: #878787;\n",
       "  }\n",
       "}\n",
       "\n",
       "#sk-container-id-2 {\n",
       "  color: var(--sklearn-color-text);\n",
       "}\n",
       "\n",
       "#sk-container-id-2 pre {\n",
       "  padding: 0;\n",
       "}\n",
       "\n",
       "#sk-container-id-2 input.sk-hidden--visually {\n",
       "  border: 0;\n",
       "  clip: rect(1px 1px 1px 1px);\n",
       "  clip: rect(1px, 1px, 1px, 1px);\n",
       "  height: 1px;\n",
       "  margin: -1px;\n",
       "  overflow: hidden;\n",
       "  padding: 0;\n",
       "  position: absolute;\n",
       "  width: 1px;\n",
       "}\n",
       "\n",
       "#sk-container-id-2 div.sk-dashed-wrapped {\n",
       "  border: 1px dashed var(--sklearn-color-line);\n",
       "  margin: 0 0.4em 0.5em 0.4em;\n",
       "  box-sizing: border-box;\n",
       "  padding-bottom: 0.4em;\n",
       "  background-color: var(--sklearn-color-background);\n",
       "}\n",
       "\n",
       "#sk-container-id-2 div.sk-container {\n",
       "  /* jupyter's `normalize.less` sets `[hidden] { display: none; }`\n",
       "     but bootstrap.min.css set `[hidden] { display: none !important; }`\n",
       "     so we also need the `!important` here to be able to override the\n",
       "     default hidden behavior on the sphinx rendered scikit-learn.org.\n",
       "     See: https://github.com/scikit-learn/scikit-learn/issues/21755 */\n",
       "  display: inline-block !important;\n",
       "  position: relative;\n",
       "}\n",
       "\n",
       "#sk-container-id-2 div.sk-text-repr-fallback {\n",
       "  display: none;\n",
       "}\n",
       "\n",
       "div.sk-parallel-item,\n",
       "div.sk-serial,\n",
       "div.sk-item {\n",
       "  /* draw centered vertical line to link estimators */\n",
       "  background-image: linear-gradient(var(--sklearn-color-text-on-default-background), var(--sklearn-color-text-on-default-background));\n",
       "  background-size: 2px 100%;\n",
       "  background-repeat: no-repeat;\n",
       "  background-position: center center;\n",
       "}\n",
       "\n",
       "/* Parallel-specific style estimator block */\n",
       "\n",
       "#sk-container-id-2 div.sk-parallel-item::after {\n",
       "  content: \"\";\n",
       "  width: 100%;\n",
       "  border-bottom: 2px solid var(--sklearn-color-text-on-default-background);\n",
       "  flex-grow: 1;\n",
       "}\n",
       "\n",
       "#sk-container-id-2 div.sk-parallel {\n",
       "  display: flex;\n",
       "  align-items: stretch;\n",
       "  justify-content: center;\n",
       "  background-color: var(--sklearn-color-background);\n",
       "  position: relative;\n",
       "}\n",
       "\n",
       "#sk-container-id-2 div.sk-parallel-item {\n",
       "  display: flex;\n",
       "  flex-direction: column;\n",
       "}\n",
       "\n",
       "#sk-container-id-2 div.sk-parallel-item:first-child::after {\n",
       "  align-self: flex-end;\n",
       "  width: 50%;\n",
       "}\n",
       "\n",
       "#sk-container-id-2 div.sk-parallel-item:last-child::after {\n",
       "  align-self: flex-start;\n",
       "  width: 50%;\n",
       "}\n",
       "\n",
       "#sk-container-id-2 div.sk-parallel-item:only-child::after {\n",
       "  width: 0;\n",
       "}\n",
       "\n",
       "/* Serial-specific style estimator block */\n",
       "\n",
       "#sk-container-id-2 div.sk-serial {\n",
       "  display: flex;\n",
       "  flex-direction: column;\n",
       "  align-items: center;\n",
       "  background-color: var(--sklearn-color-background);\n",
       "  padding-right: 1em;\n",
       "  padding-left: 1em;\n",
       "}\n",
       "\n",
       "\n",
       "/* Toggleable style: style used for estimator/Pipeline/ColumnTransformer box that is\n",
       "clickable and can be expanded/collapsed.\n",
       "- Pipeline and ColumnTransformer use this feature and define the default style\n",
       "- Estimators will overwrite some part of the style using the `sk-estimator` class\n",
       "*/\n",
       "\n",
       "/* Pipeline and ColumnTransformer style (default) */\n",
       "\n",
       "#sk-container-id-2 div.sk-toggleable {\n",
       "  /* Default theme specific background. It is overwritten whether we have a\n",
       "  specific estimator or a Pipeline/ColumnTransformer */\n",
       "  background-color: var(--sklearn-color-background);\n",
       "}\n",
       "\n",
       "/* Toggleable label */\n",
       "#sk-container-id-2 label.sk-toggleable__label {\n",
       "  cursor: pointer;\n",
       "  display: flex;\n",
       "  width: 100%;\n",
       "  margin-bottom: 0;\n",
       "  padding: 0.5em;\n",
       "  box-sizing: border-box;\n",
       "  text-align: center;\n",
       "  align-items: start;\n",
       "  justify-content: space-between;\n",
       "  gap: 0.5em;\n",
       "}\n",
       "\n",
       "#sk-container-id-2 label.sk-toggleable__label .caption {\n",
       "  font-size: 0.6rem;\n",
       "  font-weight: lighter;\n",
       "  color: var(--sklearn-color-text-muted);\n",
       "}\n",
       "\n",
       "#sk-container-id-2 label.sk-toggleable__label-arrow:before {\n",
       "  /* Arrow on the left of the label */\n",
       "  content: \"▸\";\n",
       "  float: left;\n",
       "  margin-right: 0.25em;\n",
       "  color: var(--sklearn-color-icon);\n",
       "}\n",
       "\n",
       "#sk-container-id-2 label.sk-toggleable__label-arrow:hover:before {\n",
       "  color: var(--sklearn-color-text);\n",
       "}\n",
       "\n",
       "/* Toggleable content - dropdown */\n",
       "\n",
       "#sk-container-id-2 div.sk-toggleable__content {\n",
       "  max-height: 0;\n",
       "  max-width: 0;\n",
       "  overflow: hidden;\n",
       "  text-align: left;\n",
       "  /* unfitted */\n",
       "  background-color: var(--sklearn-color-unfitted-level-0);\n",
       "}\n",
       "\n",
       "#sk-container-id-2 div.sk-toggleable__content.fitted {\n",
       "  /* fitted */\n",
       "  background-color: var(--sklearn-color-fitted-level-0);\n",
       "}\n",
       "\n",
       "#sk-container-id-2 div.sk-toggleable__content pre {\n",
       "  margin: 0.2em;\n",
       "  border-radius: 0.25em;\n",
       "  color: var(--sklearn-color-text);\n",
       "  /* unfitted */\n",
       "  background-color: var(--sklearn-color-unfitted-level-0);\n",
       "}\n",
       "\n",
       "#sk-container-id-2 div.sk-toggleable__content.fitted pre {\n",
       "  /* unfitted */\n",
       "  background-color: var(--sklearn-color-fitted-level-0);\n",
       "}\n",
       "\n",
       "#sk-container-id-2 input.sk-toggleable__control:checked~div.sk-toggleable__content {\n",
       "  /* Expand drop-down */\n",
       "  max-height: 200px;\n",
       "  max-width: 100%;\n",
       "  overflow: auto;\n",
       "}\n",
       "\n",
       "#sk-container-id-2 input.sk-toggleable__control:checked~label.sk-toggleable__label-arrow:before {\n",
       "  content: \"▾\";\n",
       "}\n",
       "\n",
       "/* Pipeline/ColumnTransformer-specific style */\n",
       "\n",
       "#sk-container-id-2 div.sk-label input.sk-toggleable__control:checked~label.sk-toggleable__label {\n",
       "  color: var(--sklearn-color-text);\n",
       "  background-color: var(--sklearn-color-unfitted-level-2);\n",
       "}\n",
       "\n",
       "#sk-container-id-2 div.sk-label.fitted input.sk-toggleable__control:checked~label.sk-toggleable__label {\n",
       "  background-color: var(--sklearn-color-fitted-level-2);\n",
       "}\n",
       "\n",
       "/* Estimator-specific style */\n",
       "\n",
       "/* Colorize estimator box */\n",
       "#sk-container-id-2 div.sk-estimator input.sk-toggleable__control:checked~label.sk-toggleable__label {\n",
       "  /* unfitted */\n",
       "  background-color: var(--sklearn-color-unfitted-level-2);\n",
       "}\n",
       "\n",
       "#sk-container-id-2 div.sk-estimator.fitted input.sk-toggleable__control:checked~label.sk-toggleable__label {\n",
       "  /* fitted */\n",
       "  background-color: var(--sklearn-color-fitted-level-2);\n",
       "}\n",
       "\n",
       "#sk-container-id-2 div.sk-label label.sk-toggleable__label,\n",
       "#sk-container-id-2 div.sk-label label {\n",
       "  /* The background is the default theme color */\n",
       "  color: var(--sklearn-color-text-on-default-background);\n",
       "}\n",
       "\n",
       "/* On hover, darken the color of the background */\n",
       "#sk-container-id-2 div.sk-label:hover label.sk-toggleable__label {\n",
       "  color: var(--sklearn-color-text);\n",
       "  background-color: var(--sklearn-color-unfitted-level-2);\n",
       "}\n",
       "\n",
       "/* Label box, darken color on hover, fitted */\n",
       "#sk-container-id-2 div.sk-label.fitted:hover label.sk-toggleable__label.fitted {\n",
       "  color: var(--sklearn-color-text);\n",
       "  background-color: var(--sklearn-color-fitted-level-2);\n",
       "}\n",
       "\n",
       "/* Estimator label */\n",
       "\n",
       "#sk-container-id-2 div.sk-label label {\n",
       "  font-family: monospace;\n",
       "  font-weight: bold;\n",
       "  display: inline-block;\n",
       "  line-height: 1.2em;\n",
       "}\n",
       "\n",
       "#sk-container-id-2 div.sk-label-container {\n",
       "  text-align: center;\n",
       "}\n",
       "\n",
       "/* Estimator-specific */\n",
       "#sk-container-id-2 div.sk-estimator {\n",
       "  font-family: monospace;\n",
       "  border: 1px dotted var(--sklearn-color-border-box);\n",
       "  border-radius: 0.25em;\n",
       "  box-sizing: border-box;\n",
       "  margin-bottom: 0.5em;\n",
       "  /* unfitted */\n",
       "  background-color: var(--sklearn-color-unfitted-level-0);\n",
       "}\n",
       "\n",
       "#sk-container-id-2 div.sk-estimator.fitted {\n",
       "  /* fitted */\n",
       "  background-color: var(--sklearn-color-fitted-level-0);\n",
       "}\n",
       "\n",
       "/* on hover */\n",
       "#sk-container-id-2 div.sk-estimator:hover {\n",
       "  /* unfitted */\n",
       "  background-color: var(--sklearn-color-unfitted-level-2);\n",
       "}\n",
       "\n",
       "#sk-container-id-2 div.sk-estimator.fitted:hover {\n",
       "  /* fitted */\n",
       "  background-color: var(--sklearn-color-fitted-level-2);\n",
       "}\n",
       "\n",
       "/* Specification for estimator info (e.g. \"i\" and \"?\") */\n",
       "\n",
       "/* Common style for \"i\" and \"?\" */\n",
       "\n",
       ".sk-estimator-doc-link,\n",
       "a:link.sk-estimator-doc-link,\n",
       "a:visited.sk-estimator-doc-link {\n",
       "  float: right;\n",
       "  font-size: smaller;\n",
       "  line-height: 1em;\n",
       "  font-family: monospace;\n",
       "  background-color: var(--sklearn-color-background);\n",
       "  border-radius: 1em;\n",
       "  height: 1em;\n",
       "  width: 1em;\n",
       "  text-decoration: none !important;\n",
       "  margin-left: 0.5em;\n",
       "  text-align: center;\n",
       "  /* unfitted */\n",
       "  border: var(--sklearn-color-unfitted-level-1) 1pt solid;\n",
       "  color: var(--sklearn-color-unfitted-level-1);\n",
       "}\n",
       "\n",
       ".sk-estimator-doc-link.fitted,\n",
       "a:link.sk-estimator-doc-link.fitted,\n",
       "a:visited.sk-estimator-doc-link.fitted {\n",
       "  /* fitted */\n",
       "  border: var(--sklearn-color-fitted-level-1) 1pt solid;\n",
       "  color: var(--sklearn-color-fitted-level-1);\n",
       "}\n",
       "\n",
       "/* On hover */\n",
       "div.sk-estimator:hover .sk-estimator-doc-link:hover,\n",
       ".sk-estimator-doc-link:hover,\n",
       "div.sk-label-container:hover .sk-estimator-doc-link:hover,\n",
       ".sk-estimator-doc-link:hover {\n",
       "  /* unfitted */\n",
       "  background-color: var(--sklearn-color-unfitted-level-3);\n",
       "  color: var(--sklearn-color-background);\n",
       "  text-decoration: none;\n",
       "}\n",
       "\n",
       "div.sk-estimator.fitted:hover .sk-estimator-doc-link.fitted:hover,\n",
       ".sk-estimator-doc-link.fitted:hover,\n",
       "div.sk-label-container:hover .sk-estimator-doc-link.fitted:hover,\n",
       ".sk-estimator-doc-link.fitted:hover {\n",
       "  /* fitted */\n",
       "  background-color: var(--sklearn-color-fitted-level-3);\n",
       "  color: var(--sklearn-color-background);\n",
       "  text-decoration: none;\n",
       "}\n",
       "\n",
       "/* Span, style for the box shown on hovering the info icon */\n",
       ".sk-estimator-doc-link span {\n",
       "  display: none;\n",
       "  z-index: 9999;\n",
       "  position: relative;\n",
       "  font-weight: normal;\n",
       "  right: .2ex;\n",
       "  padding: .5ex;\n",
       "  margin: .5ex;\n",
       "  width: min-content;\n",
       "  min-width: 20ex;\n",
       "  max-width: 50ex;\n",
       "  color: var(--sklearn-color-text);\n",
       "  box-shadow: 2pt 2pt 4pt #999;\n",
       "  /* unfitted */\n",
       "  background: var(--sklearn-color-unfitted-level-0);\n",
       "  border: .5pt solid var(--sklearn-color-unfitted-level-3);\n",
       "}\n",
       "\n",
       ".sk-estimator-doc-link.fitted span {\n",
       "  /* fitted */\n",
       "  background: var(--sklearn-color-fitted-level-0);\n",
       "  border: var(--sklearn-color-fitted-level-3);\n",
       "}\n",
       "\n",
       ".sk-estimator-doc-link:hover span {\n",
       "  display: block;\n",
       "}\n",
       "\n",
       "/* \"?\"-specific style due to the `<a>` HTML tag */\n",
       "\n",
       "#sk-container-id-2 a.estimator_doc_link {\n",
       "  float: right;\n",
       "  font-size: 1rem;\n",
       "  line-height: 1em;\n",
       "  font-family: monospace;\n",
       "  background-color: var(--sklearn-color-background);\n",
       "  border-radius: 1rem;\n",
       "  height: 1rem;\n",
       "  width: 1rem;\n",
       "  text-decoration: none;\n",
       "  /* unfitted */\n",
       "  color: var(--sklearn-color-unfitted-level-1);\n",
       "  border: var(--sklearn-color-unfitted-level-1) 1pt solid;\n",
       "}\n",
       "\n",
       "#sk-container-id-2 a.estimator_doc_link.fitted {\n",
       "  /* fitted */\n",
       "  border: var(--sklearn-color-fitted-level-1) 1pt solid;\n",
       "  color: var(--sklearn-color-fitted-level-1);\n",
       "}\n",
       "\n",
       "/* On hover */\n",
       "#sk-container-id-2 a.estimator_doc_link:hover {\n",
       "  /* unfitted */\n",
       "  background-color: var(--sklearn-color-unfitted-level-3);\n",
       "  color: var(--sklearn-color-background);\n",
       "  text-decoration: none;\n",
       "}\n",
       "\n",
       "#sk-container-id-2 a.estimator_doc_link.fitted:hover {\n",
       "  /* fitted */\n",
       "  background-color: var(--sklearn-color-fitted-level-3);\n",
       "}\n",
       "</style><div id=\"sk-container-id-2\" class=\"sk-top-container\"><div class=\"sk-text-repr-fallback\"><pre>LinearRegression(copy_X=False)</pre><b>In a Jupyter environment, please rerun this cell to show the HTML representation or trust the notebook. <br />On GitHub, the HTML representation is unable to render, please try loading this page with nbviewer.org.</b></div><div class=\"sk-container\" hidden><div class=\"sk-item\"><div class=\"sk-estimator fitted sk-toggleable\"><input class=\"sk-toggleable__control sk-hidden--visually\" id=\"sk-estimator-id-2\" type=\"checkbox\" checked><label for=\"sk-estimator-id-2\" class=\"sk-toggleable__label fitted sk-toggleable__label-arrow\"><div><div>LinearRegression</div></div><div><a class=\"sk-estimator-doc-link fitted\" rel=\"noreferrer\" target=\"_blank\" href=\"https://scikit-learn.org/1.6/modules/generated/sklearn.linear_model.LinearRegression.html\">?<span>Documentation for LinearRegression</span></a><span class=\"sk-estimator-doc-link fitted\">i<span>Fitted</span></span></div></label><div class=\"sk-toggleable__content fitted\"><pre>LinearRegression(copy_X=False)</pre></div> </div></div></div></div>"
      ],
      "text/plain": [
       "LinearRegression(copy_X=False)"
      ]
     },
     "execution_count": 3,
     "metadata": {},
     "output_type": "execute_result"
    }
   ],
   "source": [
    "from sklearn.model_selection import train_test_split\n",
    "from sklearn.linear_model import LinearRegression\n",
    "X_train, X_test, y_train, y_test = train_test_split(X, y, test_size=0.2, random_state=42)\n",
    "\n",
    "model = LinearRegression(copy_X=False)\n",
    "model.fit(X_train, y_train)"
   ]
  },
  {
   "cell_type": "markdown",
   "id": "dab448f6-ea57-424a-b775-a7a6d53bf5fa",
   "metadata": {},
   "source": [
    "The last step here is to make predicitions and evaluate the performance of our quickly made model!"
   ]
  },
  {
   "cell_type": "code",
   "execution_count": 4,
   "id": "90452c13-69dc-48fb-9fea-5d9e400943b1",
   "metadata": {},
   "outputs": [
    {
     "name": "stdout",
     "output_type": "stream",
     "text": [
      "R-squared score: 0.58\n"
     ]
    }
   ],
   "source": [
    "predictions = model.predict(X_test)\n",
    "r2 = sklearn.metrics.r2_score(y_test, predictions)\n",
    "print(f\"R-squared score: {r2:.2f}\")"
   ]
  },
  {
   "cell_type": "markdown",
   "id": "11053646-0d41-46c6-ba81-b542c50fad28",
   "metadata": {},
   "source": [
    "Much like we saw in the cuDF notebook, we can simply change the import of our code to take advantage of the GPU accelerated version of the linear regression code."
   ]
  },
  {
   "cell_type": "code",
   "execution_count": 6,
   "id": "31d54611-2cc1-432d-b96e-1126a5607961",
   "metadata": {},
   "outputs": [
    {
     "name": "stdout",
     "output_type": "stream",
     "text": [
      "R-squared score: 0.60\n"
     ]
    }
   ],
   "source": [
    "import cuml\n",
    "import cudf\n",
    "\n",
    "california = sklearn.datasets.fetch_california_housing()\n",
    "X = cudf.DataFrame(california.data, columns=california.feature_names)\n",
    "y = cudf.Series(california.target)\n",
    "\n",
    "X_train, X_test, y_train, y_test = cuml.model_selection.train_test_split(X, y, test_size=0.2, random_state=42)\n",
    "\n",
    "model = cuml.linear_model.LinearRegression(copy_X=False)\n",
    "model.fit(X_train, y_train)\n",
    "\n",
    "predictions = model.predict(X_test)\n",
    "r2 = cuml.metrics.r2_score(y_test, predictions)\n",
    "print(f\"R-squared score: {r2:.2f}\")"
   ]
  },
  {
   "cell_type": "markdown",
   "id": "59a529ff-6c9c-4be6-ac86-56167b137f82",
   "metadata": {},
   "source": [
    "Let's look at another example. Here we are creating our random NumPy data and are running a KMeans clustering algorithm. This is an iterative, centroid-based clustering algorithm that partitions a dataset into similar groups based on the distance between their centroids."
   ]
  },
  {
   "cell_type": "code",
   "execution_count": 7,
   "id": "f3acc3db-d9e0-415b-88a2-124b42ff2506",
   "metadata": {},
   "outputs": [
    {
     "name": "stdout",
     "output_type": "stream",
     "text": [
      "scikit learn time: 0.9899 seconds\n"
     ]
    }
   ],
   "source": [
    "import matplotlib.pyplot as plt\n",
    "from time import perf_counter\n",
    "import numpy as np\n",
    "from sklearn.cluster import KMeans\n",
    "\n",
    "np.random.seed(42)\n",
    "data = np.random.rand(1500000, 2)\n",
    "\n",
    "start_time = perf_counter()\n",
    "kmeans_cpu = KMeans(n_clusters=3, random_state=42)\n",
    "kmeans_cpu.fit(data)\n",
    "labels_cpu = kmeans_cpu.labels_\n",
    "centroids_cpu = kmeans_cpu.cluster_centers_\n",
    "stop_time = perf_counter()\n",
    "\n",
    "scikit_time = stop_time - start_time\n",
    "print(f\"scikit learn time: {scikit_time:.4f} seconds\")"
   ]
  },
  {
   "cell_type": "markdown",
   "id": "713c692b-5f81-46bb-bb97-1712b70045c6",
   "metadata": {},
   "source": [
    "For many of these sklearn algorithms, it can be of use to visualize the output. Let's go ahead and plot the output here. "
   ]
  },
  {
   "cell_type": "code",
   "execution_count": 8,
   "id": "9ce6f4cd-c09e-4174-b8ed-5b31fa0226af",
   "metadata": {},
   "outputs": [
    {
     "data": {
      "image/png": "[encoded data removed]",
      "text/plain": [
       "<Figure size 1000x500 with 1 Axes>"
      ]
     },
     "metadata": {},
     "output_type": "display_data"
    }
   ],
   "source": [
    "plt.figure(figsize=(10, 5))\n",
    "\n",
    "plt.subplot(1, 2, 1)\n",
    "plt.scatter(data[:, 0], data[:, 1], c=labels_cpu)\n",
    "plt.scatter(centroids_cpu[:, 0], centroids_cpu[:, 1], c='red', s=200, alpha=0.5)\n",
    "plt.title(\"Scikit-learn\")\n",
    "\n",
    "plt.show()"
   ]
  },
  {
   "cell_type": "markdown",
   "id": "8ef010b7-cb6d-4e54-a29c-0df6aeba878a",
   "metadata": {},
   "source": [
    "Now, let's go again through the same process, but instead using the cuML equivalent functions. "
   ]
  },
  {
   "cell_type": "code",
   "execution_count": 12,
   "id": "6179b7fe-7d18-4f15-a71d-f2d5d23ec01a",
   "metadata": {},
   "outputs": [
    {
     "name": "stdout",
     "output_type": "stream",
     "text": [
      "scikit learn time: 0.9899 seconds\n",
      "cuML time: 0.0499 seconds\n",
      "Speedup: 19.83x\n"
     ]
    },
    {
     "name": "stderr",
     "output_type": "stream",
     "text": [
      "/packages/envs/rapids25.02/lib/python3.12/site-packages/cuml/internals/api_decorators.py:195: FutureWarning: The default value of `n_init` will change from 1 to 'auto' in 25.04. Set the value of `n_init` explicitly to suppress this warning.\n",
      "  return func(*args, **kwargs)\n"
     ]
    }
   ],
   "source": [
    "import cudf\n",
    "import cuml\n",
    "\n",
    "start_time = perf_counter()\n",
    "data_gpu = cudf.DataFrame(data)\n",
    "kmeans_gpu = cuml.cluster.KMeans(n_clusters=3, random_state=42)\n",
    "kmeans_gpu.fit(data_gpu)\n",
    "labels_gpu = kmeans_gpu.labels_\n",
    "centroids_gpu = kmeans_gpu.cluster_centers_.to_pandas().values\n",
    "stop_time = perf_counter()\n",
    "\n",
    "cuml_time = stop_time - start_time\n",
    "\n",
    "print(f\"scikit learn time: {scikit_time:.4f} seconds\")\n",
    "print(f\"cuML time: {cuml_time:.4f} seconds\")\n",
    "print(f\"Speedup: {scikit_time / cuml_time:.2f}x\")"
   ]
  },
  {
   "cell_type": "markdown",
   "id": "bf6d3e81-ac57-4ace-8405-acdd4ba658b2",
   "metadata": {},
   "source": [
    "Again, we see a performance benefit on posting the code to the cuML equivalent! Lastly, we can reconfirm our results by plotting the ouput from the GPU version!"
   ]
  },
  {
   "cell_type": "markdown",
   "id": "0bda8260-a498-45ff-98fe-d82a62bbb489",
   "metadata": {},
   "source": [
    "**CuML  in Practice: 311 call dataset**\n",
    "\n",
    "Now, let's go back to our 311 call dataset. This time we are starting with loading all the full dataset, and then splitting them into a feature matrix X and target vector Y. "
   ]
  },
  {
   "cell_type": "code",
   "execution_count": 15,
   "id": "88c459ab-44bb-40e4-9b7e-3be7d5be7924",
   "metadata": {},
   "outputs": [],
   "source": [
    "# TODO: Change path to the csv\n",
    "df_311_full = pd.read_csv('/home/vpatel69/python_notebooks/311_service_requests.csv')"
   ]
  },
  {
   "cell_type": "markdown",
   "id": "df2d3a92-3ffa-4df2-be11-3b660a57a4c0",
   "metadata": {},
   "source": [
    "Next, we want to use only the data that has information about both the latitude and longitude. After we perform standardization or z-scaling on our data to make sure our data is all on the same scale. Finally, we can call the KMeans clustering on our data."
   ]
  },
  {
   "cell_type": "code",
   "execution_count": 16,
   "id": "b17901c7-3b4e-40f1-8196-2f561b07440a",
   "metadata": {},
   "outputs": [
    {
     "name": "stdout",
     "output_type": "stream",
     "text": [
      "scikit learn time: 0.1008 seconds\n"
     ]
    }
   ],
   "source": [
    "start_time = perf_counter()\n",
    "df_311_clean = df_311_full.dropna(subset=['latitude', 'longitude']).copy()\n",
    "X = df_311_clean[['latitude', 'longitude']].to_numpy()\n",
    "\n",
    "mean_lat = X[:, 0].mean()\n",
    "std_lat = X[:, 0].std()\n",
    "mean_long = X[:, 1].mean()\n",
    "std_long = X[:, 1].std()\n",
    "\n",
    "X_scaled = np.array([(X[:, 0] - mean_lat) / std_lat, (X[:, 1] - mean_long) / std_long]).T\n",
    "\n",
    "kmeans_cpu = KMeans(n_clusters=3, random_state=42, n_init=100, max_iter=3000)\n",
    "kmeans_cpu.fit(X_scaled)\n",
    "stop_time = perf_counter()\n",
    "\n",
    "scikit_time = stop_time - start_time\n",
    "\n",
    "print(f\"scikit learn time: {scikit_time:.4f} seconds\")"
   ]
  },
  {
   "cell_type": "markdown",
   "id": "7bbdff7c-4da6-462c-ab4c-eb7f6233c3ab",
   "metadata": {},
   "source": [
    "Similar to what we did in our first example, let's plot our data adn the clusters. We are again inclusing the centroids of these clusters."
   ]
  },
  {
   "cell_type": "code",
   "execution_count": 17,
   "id": "b0dab28c-e5e8-491f-b392-abe140783e37",
   "metadata": {},
   "outputs": [
    {
     "data": {
      "image/png": "[encoded data removed]",
      "text/plain": [
       "<Figure size 800x600 with 1 Axes>"
      ]
     },
     "metadata": {},
     "output_type": "display_data"
    }
   ],
   "source": [
    "plt.figure(figsize=(8, 6))\n",
    "plt.scatter(X_scaled[:, 0], X_scaled[:, 1], c=kmeans_cpu.labels_)\n",
    "plt.scatter(kmeans_cpu.cluster_centers_[:, 0], kmeans_cpu.cluster_centers_[:, 1], c='red', s=200, alpha=0.5)\n",
    "plt.title(\"Scikit-learn K-means Clustering (CPU)\")\n",
    "plt.show()"
   ]
  },
  {
   "cell_type": "code",
   "execution_count": null,
   "id": "5d9701d5-c639-44a9-b9eb-42ca33978d94",
   "metadata": {},
   "outputs": [],
   "source": [
    "# TODO: Write your own cuML code to gain additional insight from the 311 Call Dataset"
   ]
  },
  {
   "cell_type": "markdown",
   "id": "9860951c-bb1f-4669-ba25-c8d832fc0f0c",
   "metadata": {},
   "source": [
    "---\n",
    "\n",
    "**Please restart the kernel**"
   ]
  },
  {
   "cell_type": "code",
   "execution_count": null,
   "id": "7053dc1d-bc5b-4c50-9948-18250ae42438",
   "metadata": {},
   "outputs": [],
   "source": [
    "import IPython\n",
    "app = IPython.Application.instance()\n",
    "app.kernel.do_shutdown(True)"
   ]
  },
  {
   "cell_type": "markdown",
   "id": "99107cc4-f78a-45d6-b7a9-225af586f9fa",
   "metadata": {},
   "source": [
    "In this notebook, we've explored the fundamentals of RAPIDS cuML and its potential for accelerating machine learning tasks in Python. We've seen how cuML can provide significant speedups over traditional scikit-learn operations, particularly for large-scale datasets. Key takeaways include:\n",
    "1. cuML offers a familiar scikit-learn-like interface, making it easy to port existing machine learning code to GPU acceleration.\n",
    "2. Performance gains can be substantial, especially for algorithms like K-means clustering on large datasets.\n",
    "3. Real-world applications, such as analyzing the NYC 311 Service Request dataset, demonstrate the practical benefits of using cuML for geospatial clustering.\n",
    "4. The integration with other RAPIDS libraries, such as cuDF, allows for end-to-end GPU-accelerated data science workflows.\n",
    "\n",
    "By leveraging RAPIDS cuML, you've gained a powerful asset for your machine learning workflows. This GPU-accelerated library enables you to process larger datasets and train models significantly faster than traditional CPU-based methods."
   ]
  }
 ],
 "metadata": {
  "kernelspec": {
   "display_name": "rapids25.02",
   "language": "python",
   "name": "rapids25.02"
  },
  "language_info": {
   "codemirror_mode": {
    "name": "ipython",
    "version": 3
   },
   "file_extension": ".py",
   "mimetype": "text/x-python",
   "name": "python",
   "nbconvert_exporter": "python",
   "pygments_lexer": "ipython3",
   "version": "3.12.9"
  }
 },
 "nbformat": 4,
 "nbformat_minor": 5
}
