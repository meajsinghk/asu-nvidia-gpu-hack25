{
 "cells": [
  {
   "cell_type": "markdown",
   "id": "2e9ec28c-395d-4e29-a716-d2a35fb1465c",
   "metadata": {},
   "source": [
    "## **Notebook 2: Introduction to RAPIDS cuDF**"
   ]
  },
  {
   "cell_type": "markdown",
   "id": "5f2df413-1768-44df-96c6-2dcce23e9936",
   "metadata": {},
   "source": [
    "This notebook will guide you through the basics of cuDF, demonstrating its capabilities in accelerating data operations and highlighting key concepts such as automatic GPU acceleration and performance comparisons with traditional pandas operations.\n",
    "\n",
    "Throughout this tutorial, we'll explore:\n",
    "1. The similarities between pandas and cuDF, and how to use cuDF's pandas-compatible API\n",
    "2. Performance comparisons between CPU-based pandas and GPU-accelerated cuDF operations\n",
    "3. Techniques for working with large datasets, including grouping and aggregation\n",
    "4. Practical examples using real-world data from NYC's 311 Service Request dataset\n",
    "\n",
    "---\n",
    "**GPU-Accelerated Data Manipulation with CuDF**"
   ]
  },
  {
   "cell_type": "markdown",
   "id": "590e96aa-d988-4669-9859-e48a4396121a",
   "metadata": {},
   "source": [
    "Within the Python ecosystem, [Pandas](https://pandas.pydata.org/) is a popular library for working with structured tabular data. This type of data is often represented in table or CSV format, which Pandas can filter, transform, aggregate, merge, visualize and  more.\n",
    "\n",
    "Below we show how to create a Pandas DataFrame, an internal object for representing tabular data. This contains a column for the key and one for the value. "
   ]
  },
  {
   "cell_type": "code",
   "execution_count": 1,
   "id": "71fb2985-469d-4cb3-800a-68336aef437f",
   "metadata": {},
   "outputs": [],
   "source": [
    "import pandas as pd"
   ]
  },
  {
   "cell_type": "code",
   "execution_count": 2,
   "id": "59deb4b7-2a39-4869-a1a4-a6e5139bc5f5",
   "metadata": {},
   "outputs": [
    {
     "name": "stdout",
     "output_type": "stream",
     "text": [
      "   key  value\n",
      "0    0   10.0\n",
      "1    0   11.0\n",
      "2    2   12.0\n",
      "3    2   13.0\n",
      "4    3   14.0\n"
     ]
    }
   ],
   "source": [
    "df = pd.DataFrame()\n",
    "df['key'] = [0, 0, 2, 2, 3]\n",
    "df['value'] = [float(i + 10) for i in range(5)]\n",
    "print(df)"
   ]
  },
  {
   "cell_type": "markdown",
   "id": "68c2e2ad-79e5-4515-8e04-b66655ac86f7",
   "metadata": {},
   "source": [
    "We can see where our install of pandas is by running the cell below. "
   ]
  },
  {
   "cell_type": "code",
   "execution_count": 3,
   "id": "8747aa83-ecde-42be-84ec-d62547e48ede",
   "metadata": {},
   "outputs": [
    {
     "data": {
      "text/plain": [
       "<module 'pandas' from '/packages/envs/rapids25.02/lib/python3.12/site-packages/pandas/__init__.py'>"
      ]
     },
     "execution_count": 3,
     "metadata": {},
     "output_type": "execute_result"
    }
   ],
   "source": [
    "pd"
   ]
  },
  {
   "cell_type": "markdown",
   "id": "eabce725-b94f-4e32-ac3c-aacffab3b398",
   "metadata": {},
   "source": [
    "We can also perform operations on this data. For example, let's say we wanted to sum all values in the in the value column. We could accomplish this using the following syntax:"
   ]
  },
  {
   "cell_type": "code",
   "execution_count": 4,
   "id": "1d968e74-8f19-432b-9f15-e8b2422304bb",
   "metadata": {},
   "outputs": [
    {
     "name": "stdout",
     "output_type": "stream",
     "text": [
      "Aggregation: 60.0\n"
     ]
    }
   ],
   "source": [
    "aggregation = df['value'].sum()\n",
    "print(\"Aggregation:\", aggregation)"
   ]
  },
  {
   "cell_type": "markdown",
   "id": "c9cd8adf-606a-4e8d-8409-916f65edf9d2",
   "metadata": {},
   "source": [
    "The data stored in dataframes is interoperable with major data analytics and deep learning frameworks in the Python ecosystem. Including Tensorflow, Pytorch, CuPy, and Numba. This interoperability is largely made possible by DLPack - a standardized specification for tensor structures. And shuttling the data between different applications is done without any memory copies! Below we convert NumPy data directly into a pandas dataframe. "
   ]
  },
  {
   "cell_type": "code",
   "execution_count": 5,
   "id": "d25eed4d-9ce7-494a-80e0-fd347a5f17b0",
   "metadata": {},
   "outputs": [
    {
     "name": "stdout",
     "output_type": "stream",
     "text": [
      "Pandas time: 1.3530 seconds\n"
     ]
    }
   ],
   "source": [
    "import numpy as np\n",
    "from time import perf_counter\n",
    "\n",
    "n = 50000000\n",
    "\n",
    "data = {\n",
    "    'key': np.random.randint(0, 1000, n),\n",
    "    'value1': np.random.randn(n),\n",
    "    'value2': np.random.randn(n)\n",
    "}\n",
    "\n",
    "pdf = pd.DataFrame(data)\n",
    "\n",
    "start_time = perf_counter()\n",
    "pandas_result = pdf.groupby('key').agg({'value1': ['sum', 'mean'], 'value2': ['min', 'max']})\n",
    "stop_time = perf_counter()\n",
    "\n",
    "pandas_time = stop_time - start_time\n",
    "print(f\"Pandas time: {pandas_time:.4f} seconds\")"
   ]
  },
  {
   "cell_type": "markdown",
   "id": "2230f10d-8161-4f20-92d1-6609964609ad",
   "metadata": {},
   "source": [
    "Like CuPy is to NumPy, we have [cuDF](https://github.com/rapidsai/cudf) which allows us to GPU accelerate Pandas code. Taking it a step further, when you load `cudf.pandas` you can automatically accelerate your pandas code on the GPU with zero code changes. Operations execute on the GPU where possible and on the CPU otherwise, synchronizing under the hood as needed. Operations are first attempted on the GPU (copying from CPU if necessary). If that fails, the operation is attempted on the CPU (copying from GPU if necessary).\n",
    "\n",
    "To gain access to this zero change acceleration we load the extension."
   ]
  },
  {
   "cell_type": "code",
   "execution_count": 6,
   "id": "9fec09cb-7d29-498e-b185-0da9399bd41e",
   "metadata": {},
   "outputs": [],
   "source": [
    "%load_ext cudf.pandas"
   ]
  },
  {
   "cell_type": "markdown",
   "id": "e7621171-8559-4073-b688-e94c49034c89",
   "metadata": {},
   "source": [
    "Now, when we import pandas, we see we are now using the cuDF accelerator under the hood!"
   ]
  },
  {
   "cell_type": "code",
   "execution_count": 7,
   "id": "5384f31c-09eb-44e8-b0d9-221002e5de6c",
   "metadata": {},
   "outputs": [
    {
     "data": {
      "text/plain": [
       "<module 'pandas' (ModuleAccelerator(fast=cudf, slow=pandas))>"
      ]
     },
     "execution_count": 7,
     "metadata": {},
     "output_type": "execute_result"
    }
   ],
   "source": [
    "import pandas as pd\n",
    "pd"
   ]
  },
  {
   "cell_type": "markdown",
   "id": "9241f5fd-8560-4d8a-bc6d-f4d6755c1d09",
   "metadata": {},
   "source": [
    "Let's create the same dataframe as before."
   ]
  },
  {
   "cell_type": "code",
   "execution_count": 8,
   "id": "2df3ce7a-96a3-4da6-8add-51740b148faf",
   "metadata": {},
   "outputs": [
    {
     "name": "stdout",
     "output_type": "stream",
     "text": [
      "   key  value\n",
      "0    0   10.0\n",
      "1    0   11.0\n",
      "2    2   12.0\n",
      "3    2   13.0\n",
      "4    3   14.0\n"
     ]
    }
   ],
   "source": [
    "df = pd.DataFrame()\n",
    "df['key'] = [0, 0, 2, 2, 3]\n",
    "df['value'] = [float(i + 10) for i in range(5)]\n",
    "print(df)"
   ]
  },
  {
   "cell_type": "markdown",
   "id": "00688781-f773-46fc-b208-40a1f3c6370b",
   "metadata": {},
   "source": [
    "We can run the exact same code, but under the hood we are running on the GPU!"
   ]
  },
  {
   "cell_type": "code",
   "execution_count": 9,
   "id": "3d761900-b840-4de3-9338-1c84099e6cf6",
   "metadata": {},
   "outputs": [
    {
     "name": "stdout",
     "output_type": "stream",
     "text": [
      "60.0\n"
     ]
    }
   ],
   "source": [
    "aggregation = df['value'].sum()\n",
    "print(aggregation)"
   ]
  },
  {
   "cell_type": "markdown",
   "id": "3d065428-0f60-4fc2-869a-65577db82fcf",
   "metadata": {},
   "source": [
    "Now let's get back to our larger example. With the exact same code as we saw above, we can compare the performance of native pandas, and the cudf.pandas extension that unlocks the GPU acceleration. There is also a profiler which can give use the information on which calls are run on the GPU and how long they take!"
   ]
  },
  {
   "cell_type": "code",
   "execution_count": 10,
   "id": "608e9882-8975-4f96-a4ca-9ad1d0a2aadd",
   "metadata": {},
   "outputs": [
    {
     "name": "stdout",
     "output_type": "stream",
     "text": [
      "Pandas time: 1.3530 seconds\n",
      "pandas_cudf time: 0.2504 seconds\n",
      "Speedup: 5.40x\n"
     ]
    },
    {
     "data": {
      "text/html": [
       "<pre style=\"white-space:pre;overflow-x:auto;line-height:normal;font-family:Menlo,'DejaVu Sans Mono',consolas,'Courier New',monospace\"><span style=\"font-style: italic\">                                                                                                                </span>\n",
       "<span style=\"font-style: italic\">                                           Total time elapsed: 1.743 seconds                                    </span>\n",
       "<span style=\"font-style: italic\">                                         3 GPU function calls in 0.400 seconds                                  </span>\n",
       "<span style=\"font-style: italic\">                                         0 CPU function calls in 0.000 seconds                                  </span>\n",
       "<span style=\"font-style: italic\">                                                                                                                </span>\n",
       "<span style=\"font-style: italic\">                                                         Stats                                                  </span>\n",
       "<span style=\"font-style: italic\">                                                                                                                </span>\n",
       "┏━━━━━━━━━━━━━━━━━━━━━━━━━━━━┳━━━━━━━━━━━━┳━━━━━━━━━━━━━┳━━━━━━━━━━━━━┳━━━━━━━━━━━━┳━━━━━━━━━━━━━┳━━━━━━━━━━━━━┓\n",
       "┃<span style=\"font-weight: bold\"> Function                   </span>┃<span style=\"font-weight: bold\"> GPU ncalls </span>┃<span style=\"font-weight: bold\"> GPU cumtime </span>┃<span style=\"font-weight: bold\"> GPU percall </span>┃<span style=\"font-weight: bold\"> CPU ncalls </span>┃<span style=\"font-weight: bold\"> CPU cumtime </span>┃<span style=\"font-weight: bold\"> CPU percall </span>┃\n",
       "┡━━━━━━━━━━━━━━━━━━━━━━━━━━━━╇━━━━━━━━━━━━╇━━━━━━━━━━━━━╇━━━━━━━━━━━━━╇━━━━━━━━━━━━╇━━━━━━━━━━━━━╇━━━━━━━━━━━━━┩\n",
       "│ DataFrame                  │ 1          │ 0.150       │ 0.150       │ 0          │ 0.000       │ 0.000       │\n",
       "│ DataFrame.groupby          │ 1          │ 0.001       │ 0.001       │ 0          │ 0.000       │ 0.000       │\n",
       "│ DataFrameGroupBy.aggregate │ 1          │ 0.249       │ 0.249       │ 0          │ 0.000       │ 0.000       │\n",
       "└────────────────────────────┴────────────┴─────────────┴─────────────┴────────────┴─────────────┴─────────────┘\n",
       "</pre>\n"
      ],
      "text/plain": [
       "\u001b[3m                                                                                                                \u001b[0m\n",
       "\u001b[3m                                           Total time elapsed: 1.743 seconds                                    \u001b[0m\n",
       "\u001b[3m                                         3 GPU function calls in 0.400 seconds                                  \u001b[0m\n",
       "\u001b[3m                                         0 CPU function calls in 0.000 seconds                                  \u001b[0m\n",
       "\u001b[3m                                                                                                                \u001b[0m\n",
       "\u001b[3m                                                         Stats                                                  \u001b[0m\n",
       "\u001b[3m                                                                                                                \u001b[0m\n",
       "┏━━━━━━━━━━━━━━━━━━━━━━━━━━━━┳━━━━━━━━━━━━┳━━━━━━━━━━━━━┳━━━━━━━━━━━━━┳━━━━━━━━━━━━┳━━━━━━━━━━━━━┳━━━━━━━━━━━━━┓\n",
       "┃\u001b[1m \u001b[0m\u001b[1mFunction                  \u001b[0m\u001b[1m \u001b[0m┃\u001b[1m \u001b[0m\u001b[1mGPU ncalls\u001b[0m\u001b[1m \u001b[0m┃\u001b[1m \u001b[0m\u001b[1mGPU cumtime\u001b[0m\u001b[1m \u001b[0m┃\u001b[1m \u001b[0m\u001b[1mGPU percall\u001b[0m\u001b[1m \u001b[0m┃\u001b[1m \u001b[0m\u001b[1mCPU ncalls\u001b[0m\u001b[1m \u001b[0m┃\u001b[1m \u001b[0m\u001b[1mCPU cumtime\u001b[0m\u001b[1m \u001b[0m┃\u001b[1m \u001b[0m\u001b[1mCPU percall\u001b[0m\u001b[1m \u001b[0m┃\n",
       "┡━━━━━━━━━━━━━━━━━━━━━━━━━━━━╇━━━━━━━━━━━━╇━━━━━━━━━━━━━╇━━━━━━━━━━━━━╇━━━━━━━━━━━━╇━━━━━━━━━━━━━╇━━━━━━━━━━━━━┩\n",
       "│ DataFrame                  │ 1          │ 0.150       │ 0.150       │ 0          │ 0.000       │ 0.000       │\n",
       "│ DataFrame.groupby          │ 1          │ 0.001       │ 0.001       │ 0          │ 0.000       │ 0.000       │\n",
       "│ DataFrameGroupBy.aggregate │ 1          │ 0.249       │ 0.249       │ 0          │ 0.000       │ 0.000       │\n",
       "└────────────────────────────┴────────────┴─────────────┴─────────────┴────────────┴─────────────┴─────────────┘\n"
      ]
     },
     "metadata": {},
     "output_type": "display_data"
    }
   ],
   "source": [
    "%%cudf.pandas.profile\n",
    "\n",
    "pdf = pd.DataFrame(data)\n",
    "\n",
    "start_time = perf_counter()\n",
    "pandas_cudf_result = pdf.groupby('key').agg({'value1': ['sum', 'mean'], 'value2': ['min', 'max']})\n",
    "stop_time = perf_counter()\n",
    "\n",
    "pandas_cudf_time = stop_time - start_time\n",
    "\n",
    "print(f\"Pandas time: {pandas_time:.4f} seconds\")\n",
    "print(f\"pandas_cudf time: {pandas_cudf_time:.4f} seconds\")\n",
    "print(f\"Speedup: {pandas_time / pandas_cudf_time:.2f}x\")"
   ]
  },
  {
   "cell_type": "markdown",
   "id": "35e59235-b2eb-4992-b21b-15607e258af4",
   "metadata": {},
   "source": [
    "That is an big speed up, without making any code changes! "
   ]
  },
  {
   "cell_type": "markdown",
   "id": "9589be56-69b1-48bb-abcd-9109a729397d",
   "metadata": {},
   "source": [
    "---"
   ]
  },
  {
   "cell_type": "markdown",
   "id": "e0f9836a-4869-448c-a18e-bcf048c80f88",
   "metadata": {},
   "source": [
    "**CuDF pandas in Practice: 311 call dataset**"
   ]
  },
  {
   "cell_type": "markdown",
   "id": "623834a4-a2c6-42d7-b2bc-d92cfc08cc50",
   "metadata": {},
   "source": [
    "We are going to explore more features of `cudf.pandas` by utilizing a larger dataset. NYC OpenData provides a multitude of open to use and up to date datasets. We are utilizing the 311 Service Request data from 2010 to present day. We start by loading the data, and keeping the columns that are useful to us."
   ]
  },
  {
   "cell_type": "code",
   "execution_count": 12,
   "id": "e565492f-543a-4ecf-84f2-b315eeeff696",
   "metadata": {},
   "outputs": [
    {
     "data": {
      "text/html": [
       "<div>\n",
       "<style scoped>\n",
       "    .dataframe tbody tr th:only-of-type {\n",
       "        vertical-align: middle;\n",
       "    }\n",
       "\n",
       "    .dataframe tbody tr th {\n",
       "        vertical-align: top;\n",
       "    }\n",
       "\n",
       "    .dataframe thead th {\n",
       "        text-align: right;\n",
       "    }\n",
       "</style>\n",
       "<table border=\"1\" class=\"dataframe\">\n",
       "  <thead>\n",
       "    <tr style=\"text-align: right;\">\n",
       "      <th></th>\n",
       "      <th>created_date</th>\n",
       "      <th>agency</th>\n",
       "      <th>complaint_type</th>\n",
       "      <th>descriptor</th>\n",
       "      <th>incident_zip</th>\n",
       "      <th>location_type</th>\n",
       "      <th>landmark</th>\n",
       "      <th>borough</th>\n",
       "    </tr>\n",
       "  </thead>\n",
       "  <tbody>\n",
       "    <tr>\n",
       "      <th>957</th>\n",
       "      <td>2025-01-14T21:37:26.000</td>\n",
       "      <td>DSNY</td>\n",
       "      <td>Dead Animal</td>\n",
       "      <td>Raccoon</td>\n",
       "      <td>11427</td>\n",
       "      <td>Street</td>\n",
       "      <td>SAWYER AVENUE</td>\n",
       "      <td>QUEENS</td>\n",
       "    </tr>\n",
       "    <tr>\n",
       "      <th>990</th>\n",
       "      <td>2025-01-14T21:32:13.000</td>\n",
       "      <td>NYPD</td>\n",
       "      <td>Noise - Street/Sidewalk</td>\n",
       "      <td>Loud Music/Party</td>\n",
       "      <td>10454</td>\n",
       "      <td>Street/Sidewalk</td>\n",
       "      <td>EAST  143 STREET</td>\n",
       "      <td>BRONX</td>\n",
       "    </tr>\n",
       "    <tr>\n",
       "      <th>81</th>\n",
       "      <td>2025-01-15T00:11:31.000</td>\n",
       "      <td>NYPD</td>\n",
       "      <td>Noise - Residential</td>\n",
       "      <td>Loud Music/Party</td>\n",
       "      <td>11435</td>\n",
       "      <td>Residential Building/House</td>\n",
       "      <td>HILLSIDE AVENUE</td>\n",
       "      <td>QUEENS</td>\n",
       "    </tr>\n",
       "    <tr>\n",
       "      <th>799</th>\n",
       "      <td>2025-01-14T22:02:16.000</td>\n",
       "      <td>NYPD</td>\n",
       "      <td>Noise - Residential</td>\n",
       "      <td>Banging/Pounding</td>\n",
       "      <td>11214</td>\n",
       "      <td>Residential Building/House</td>\n",
       "      <td>84 STREET</td>\n",
       "      <td>BROOKLYN</td>\n",
       "    </tr>\n",
       "    <tr>\n",
       "      <th>176</th>\n",
       "      <td>2025-01-14T23:48:48.000</td>\n",
       "      <td>NYPD</td>\n",
       "      <td>Noise - Residential</td>\n",
       "      <td>Loud Television</td>\n",
       "      <td>10456</td>\n",
       "      <td>Residential Building/House</td>\n",
       "      <td>WASHINGTON AVENUE</td>\n",
       "      <td>BRONX</td>\n",
       "    </tr>\n",
       "    <tr>\n",
       "      <th>891</th>\n",
       "      <td>2025-01-14T21:48:10.000</td>\n",
       "      <td>NYPD</td>\n",
       "      <td>Noise - Residential</td>\n",
       "      <td>Loud Talking</td>\n",
       "      <td>10467</td>\n",
       "      <td>Residential Building/House</td>\n",
       "      <td>STEUBEN AVENUE</td>\n",
       "      <td>BRONX</td>\n",
       "    </tr>\n",
       "    <tr>\n",
       "      <th>845</th>\n",
       "      <td>2025-01-14T21:54:38.000</td>\n",
       "      <td>NYPD</td>\n",
       "      <td>Non-Emergency Police Matter</td>\n",
       "      <td>Trespassing</td>\n",
       "      <td>10452</td>\n",
       "      <td>Residential Building/House</td>\n",
       "      <td>FEATHERBED LANE</td>\n",
       "      <td>BRONX</td>\n",
       "    </tr>\n",
       "    <tr>\n",
       "      <th>872</th>\n",
       "      <td>2025-01-14T21:50:56.000</td>\n",
       "      <td>NYPD</td>\n",
       "      <td>Abandoned Vehicle</td>\n",
       "      <td>With License Plate</td>\n",
       "      <td>11213</td>\n",
       "      <td>Street/Sidewalk</td>\n",
       "      <td>BERGEN STREET</td>\n",
       "      <td>BROOKLYN</td>\n",
       "    </tr>\n",
       "    <tr>\n",
       "      <th>633</th>\n",
       "      <td>2025-01-14T22:32:46.000</td>\n",
       "      <td>NYPD</td>\n",
       "      <td>Non-Emergency Police Matter</td>\n",
       "      <td>Trespassing</td>\n",
       "      <td>11373</td>\n",
       "      <td>Residential Building/House</td>\n",
       "      <td>BROADWAY</td>\n",
       "      <td>QUEENS</td>\n",
       "    </tr>\n",
       "    <tr>\n",
       "      <th>58</th>\n",
       "      <td>2025-01-15T00:20:34.000</td>\n",
       "      <td>NYPD</td>\n",
       "      <td>Noise - Residential</td>\n",
       "      <td>Banging/Pounding</td>\n",
       "      <td>11225</td>\n",
       "      <td>Residential Building/House</td>\n",
       "      <td>EMPIRE BOULEVARD</td>\n",
       "      <td>BROOKLYN</td>\n",
       "    </tr>\n",
       "  </tbody>\n",
       "</table>\n",
       "</div>"
      ],
      "text/plain": [
       "                created_date agency               complaint_type  \\\n",
       "957  2025-01-14T21:37:26.000   DSNY                  Dead Animal   \n",
       "990  2025-01-14T21:32:13.000   NYPD      Noise - Street/Sidewalk   \n",
       "81   2025-01-15T00:11:31.000   NYPD          Noise - Residential   \n",
       "799  2025-01-14T22:02:16.000   NYPD          Noise - Residential   \n",
       "176  2025-01-14T23:48:48.000   NYPD          Noise - Residential   \n",
       "891  2025-01-14T21:48:10.000   NYPD          Noise - Residential   \n",
       "845  2025-01-14T21:54:38.000   NYPD  Non-Emergency Police Matter   \n",
       "872  2025-01-14T21:50:56.000   NYPD            Abandoned Vehicle   \n",
       "633  2025-01-14T22:32:46.000   NYPD  Non-Emergency Police Matter   \n",
       "58   2025-01-15T00:20:34.000   NYPD          Noise - Residential   \n",
       "\n",
       "             descriptor incident_zip               location_type  \\\n",
       "957             Raccoon        11427                      Street   \n",
       "990    Loud Music/Party        10454             Street/Sidewalk   \n",
       "81     Loud Music/Party        11435  Residential Building/House   \n",
       "799    Banging/Pounding        11214  Residential Building/House   \n",
       "176     Loud Television        10456  Residential Building/House   \n",
       "891        Loud Talking        10467  Residential Building/House   \n",
       "845         Trespassing        10452  Residential Building/House   \n",
       "872  With License Plate        11213             Street/Sidewalk   \n",
       "633         Trespassing        11373  Residential Building/House   \n",
       "58     Banging/Pounding        11225  Residential Building/House   \n",
       "\n",
       "              landmark   borough  \n",
       "957      SAWYER AVENUE    QUEENS  \n",
       "990   EAST  143 STREET     BRONX  \n",
       "81     HILLSIDE AVENUE    QUEENS  \n",
       "799          84 STREET  BROOKLYN  \n",
       "176  WASHINGTON AVENUE     BRONX  \n",
       "891     STEUBEN AVENUE     BRONX  \n",
       "845    FEATHERBED LANE     BRONX  \n",
       "872      BERGEN STREET  BROOKLYN  \n",
       "633           BROADWAY    QUEENS  \n",
       "58    EMPIRE BOULEVARD  BROOKLYN  "
      ]
     },
     "execution_count": 12,
     "metadata": {},
     "output_type": "execute_result"
    },
    {
     "data": {
      "text/html": [
       "<pre style=\"white-space:pre;overflow-x:auto;line-height:normal;font-family:Menlo,'DejaVu Sans Mono',consolas,'Courier New',monospace\"><span style=\"font-style: italic\">                                                                                                           </span>\n",
       "<span style=\"font-style: italic\">                                         Total time elapsed: 0.203 seconds                                 </span>\n",
       "<span style=\"font-style: italic\">                                       5 GPU function calls in 0.067 seconds                               </span>\n",
       "<span style=\"font-style: italic\">                                       0 CPU function calls in 0.000 seconds                               </span>\n",
       "<span style=\"font-style: italic\">                                                                                                           </span>\n",
       "<span style=\"font-style: italic\">                                                       Stats                                               </span>\n",
       "<span style=\"font-style: italic\">                                                                                                           </span>\n",
       "┏━━━━━━━━━━━━━━━━━━━━━━━┳━━━━━━━━━━━━┳━━━━━━━━━━━━━┳━━━━━━━━━━━━━┳━━━━━━━━━━━━┳━━━━━━━━━━━━━┳━━━━━━━━━━━━━┓\n",
       "┃<span style=\"font-weight: bold\"> Function              </span>┃<span style=\"font-weight: bold\"> GPU ncalls </span>┃<span style=\"font-weight: bold\"> GPU cumtime </span>┃<span style=\"font-weight: bold\"> GPU percall </span>┃<span style=\"font-weight: bold\"> CPU ncalls </span>┃<span style=\"font-weight: bold\"> CPU cumtime </span>┃<span style=\"font-weight: bold\"> CPU percall </span>┃\n",
       "┡━━━━━━━━━━━━━━━━━━━━━━━╇━━━━━━━━━━━━╇━━━━━━━━━━━━━╇━━━━━━━━━━━━━╇━━━━━━━━━━━━╇━━━━━━━━━━━━━╇━━━━━━━━━━━━━┩\n",
       "│ read_csv              │ 1          │ 0.034       │ 0.034       │ 0          │ 0.000       │ 0.000       │\n",
       "│ DataFrame.__getitem__ │ 1          │ 0.001       │ 0.001       │ 0          │ 0.000       │ 0.000       │\n",
       "│ DataFrame.dropna      │ 1          │ 0.006       │ 0.006       │ 0          │ 0.000       │ 0.000       │\n",
       "│ NDFrame.sample        │ 1          │ 0.007       │ 0.007       │ 0          │ 0.000       │ 0.000       │\n",
       "│ DataFrame.__repr__    │ 1          │ 0.019       │ 0.019       │ 0          │ 0.000       │ 0.000       │\n",
       "└───────────────────────┴────────────┴─────────────┴─────────────┴────────────┴─────────────┴─────────────┘\n",
       "</pre>\n"
      ],
      "text/plain": [
       "\u001b[3m                                                                                                           \u001b[0m\n",
       "\u001b[3m                                         Total time elapsed: 0.203 seconds                                 \u001b[0m\n",
       "\u001b[3m                                       5 GPU function calls in 0.067 seconds                               \u001b[0m\n",
       "\u001b[3m                                       0 CPU function calls in 0.000 seconds                               \u001b[0m\n",
       "\u001b[3m                                                                                                           \u001b[0m\n",
       "\u001b[3m                                                       Stats                                               \u001b[0m\n",
       "\u001b[3m                                                                                                           \u001b[0m\n",
       "┏━━━━━━━━━━━━━━━━━━━━━━━┳━━━━━━━━━━━━┳━━━━━━━━━━━━━┳━━━━━━━━━━━━━┳━━━━━━━━━━━━┳━━━━━━━━━━━━━┳━━━━━━━━━━━━━┓\n",
       "┃\u001b[1m \u001b[0m\u001b[1mFunction             \u001b[0m\u001b[1m \u001b[0m┃\u001b[1m \u001b[0m\u001b[1mGPU ncalls\u001b[0m\u001b[1m \u001b[0m┃\u001b[1m \u001b[0m\u001b[1mGPU cumtime\u001b[0m\u001b[1m \u001b[0m┃\u001b[1m \u001b[0m\u001b[1mGPU percall\u001b[0m\u001b[1m \u001b[0m┃\u001b[1m \u001b[0m\u001b[1mCPU ncalls\u001b[0m\u001b[1m \u001b[0m┃\u001b[1m \u001b[0m\u001b[1mCPU cumtime\u001b[0m\u001b[1m \u001b[0m┃\u001b[1m \u001b[0m\u001b[1mCPU percall\u001b[0m\u001b[1m \u001b[0m┃\n",
       "┡━━━━━━━━━━━━━━━━━━━━━━━╇━━━━━━━━━━━━╇━━━━━━━━━━━━━╇━━━━━━━━━━━━━╇━━━━━━━━━━━━╇━━━━━━━━━━━━━╇━━━━━━━━━━━━━┩\n",
       "│ read_csv              │ 1          │ 0.034       │ 0.034       │ 0          │ 0.000       │ 0.000       │\n",
       "│ DataFrame.__getitem__ │ 1          │ 0.001       │ 0.001       │ 0          │ 0.000       │ 0.000       │\n",
       "│ DataFrame.dropna      │ 1          │ 0.006       │ 0.006       │ 0          │ 0.000       │ 0.000       │\n",
       "│ NDFrame.sample        │ 1          │ 0.007       │ 0.007       │ 0          │ 0.000       │ 0.000       │\n",
       "│ DataFrame.__repr__    │ 1          │ 0.019       │ 0.019       │ 0          │ 0.000       │ 0.000       │\n",
       "└───────────────────────┴────────────┴─────────────┴─────────────┴────────────┴─────────────┴─────────────┘\n"
      ]
     },
     "metadata": {},
     "output_type": "display_data"
    }
   ],
   "source": [
    "%%cudf.pandas.profile\n",
    "# TODO: Change path to the csv\n",
    "df_311 = pd.read_csv('/home/vpatel69/python_notebooks/311_service_requests.csv')[[\"created_date\", \"agency\", \"complaint_type\", \"descriptor\", \"incident_zip\", \"location_type\", \"landmark\", \"borough\"]]\n",
    "df_311 = df_311.dropna()\n",
    "df_311.sample(10)"
   ]
  },
  {
   "cell_type": "markdown",
   "id": "b3cce75b-613c-46a8-b21d-2b0251597e9c",
   "metadata": {},
   "source": [
    "We can group the data into useful categories. "
   ]
  },
  {
   "cell_type": "code",
   "execution_count": 13,
   "id": "cb88c1a3-54e4-499f-8fda-c99604184ca2",
   "metadata": {},
   "outputs": [
    {
     "name": "stdout",
     "output_type": "stream",
     "text": [
      "borough\n",
      "BRONX            111\n",
      "BROOKLYN         189\n",
      "MANHATTAN        116\n",
      "QUEENS           192\n",
      "STATEN ISLAND     11\n",
      "dtype: int64\n"
     ]
    },
    {
     "data": {
      "text/html": [
       "<pre style=\"white-space:pre;overflow-x:auto;line-height:normal;font-family:Menlo,'DejaVu Sans Mono',consolas,'Courier New',monospace\"><span style=\"font-style: italic\">                                                                                                       </span>\n",
       "<span style=\"font-style: italic\">                                       Total time elapsed: 0.134 seconds                               </span>\n",
       "<span style=\"font-style: italic\">                                     3 GPU function calls in 0.022 seconds                             </span>\n",
       "<span style=\"font-style: italic\">                                     0 CPU function calls in 0.000 seconds                             </span>\n",
       "<span style=\"font-style: italic\">                                                                                                       </span>\n",
       "<span style=\"font-style: italic\">                                                     Stats                                             </span>\n",
       "<span style=\"font-style: italic\">                                                                                                       </span>\n",
       "┏━━━━━━━━━━━━━━━━━━━┳━━━━━━━━━━━━┳━━━━━━━━━━━━━┳━━━━━━━━━━━━━┳━━━━━━━━━━━━┳━━━━━━━━━━━━━┳━━━━━━━━━━━━━┓\n",
       "┃<span style=\"font-weight: bold\"> Function          </span>┃<span style=\"font-weight: bold\"> GPU ncalls </span>┃<span style=\"font-weight: bold\"> GPU cumtime </span>┃<span style=\"font-weight: bold\"> GPU percall </span>┃<span style=\"font-weight: bold\"> CPU ncalls </span>┃<span style=\"font-weight: bold\"> CPU cumtime </span>┃<span style=\"font-weight: bold\"> CPU percall </span>┃\n",
       "┡━━━━━━━━━━━━━━━━━━━╇━━━━━━━━━━━━╇━━━━━━━━━━━━━╇━━━━━━━━━━━━━╇━━━━━━━━━━━━╇━━━━━━━━━━━━━╇━━━━━━━━━━━━━┩\n",
       "│ DataFrame.groupby │ 1          │ 0.001       │ 0.001       │ 0          │ 0.000       │ 0.000       │\n",
       "│ GroupBy.size      │ 1          │ 0.016       │ 0.016       │ 0          │ 0.000       │ 0.000       │\n",
       "│ object.__str__    │ 1          │ 0.005       │ 0.005       │ 0          │ 0.000       │ 0.000       │\n",
       "└───────────────────┴────────────┴─────────────┴─────────────┴────────────┴─────────────┴─────────────┘\n",
       "</pre>\n"
      ],
      "text/plain": [
       "\u001b[3m                                                                                                       \u001b[0m\n",
       "\u001b[3m                                       Total time elapsed: 0.134 seconds                               \u001b[0m\n",
       "\u001b[3m                                     3 GPU function calls in 0.022 seconds                             \u001b[0m\n",
       "\u001b[3m                                     0 CPU function calls in 0.000 seconds                             \u001b[0m\n",
       "\u001b[3m                                                                                                       \u001b[0m\n",
       "\u001b[3m                                                     Stats                                             \u001b[0m\n",
       "\u001b[3m                                                                                                       \u001b[0m\n",
       "┏━━━━━━━━━━━━━━━━━━━┳━━━━━━━━━━━━┳━━━━━━━━━━━━━┳━━━━━━━━━━━━━┳━━━━━━━━━━━━┳━━━━━━━━━━━━━┳━━━━━━━━━━━━━┓\n",
       "┃\u001b[1m \u001b[0m\u001b[1mFunction         \u001b[0m\u001b[1m \u001b[0m┃\u001b[1m \u001b[0m\u001b[1mGPU ncalls\u001b[0m\u001b[1m \u001b[0m┃\u001b[1m \u001b[0m\u001b[1mGPU cumtime\u001b[0m\u001b[1m \u001b[0m┃\u001b[1m \u001b[0m\u001b[1mGPU percall\u001b[0m\u001b[1m \u001b[0m┃\u001b[1m \u001b[0m\u001b[1mCPU ncalls\u001b[0m\u001b[1m \u001b[0m┃\u001b[1m \u001b[0m\u001b[1mCPU cumtime\u001b[0m\u001b[1m \u001b[0m┃\u001b[1m \u001b[0m\u001b[1mCPU percall\u001b[0m\u001b[1m \u001b[0m┃\n",
       "┡━━━━━━━━━━━━━━━━━━━╇━━━━━━━━━━━━╇━━━━━━━━━━━━━╇━━━━━━━━━━━━━╇━━━━━━━━━━━━╇━━━━━━━━━━━━━╇━━━━━━━━━━━━━┩\n",
       "│ DataFrame.groupby │ 1          │ 0.001       │ 0.001       │ 0          │ 0.000       │ 0.000       │\n",
       "│ GroupBy.size      │ 1          │ 0.016       │ 0.016       │ 0          │ 0.000       │ 0.000       │\n",
       "│ object.__str__    │ 1          │ 0.005       │ 0.005       │ 0          │ 0.000       │ 0.000       │\n",
       "└───────────────────┴────────────┴─────────────┴─────────────┴────────────┴─────────────┴─────────────┘\n"
      ]
     },
     "metadata": {},
     "output_type": "display_data"
    }
   ],
   "source": [
    "%%cudf.pandas.profile\n",
    "grouped = df_311.groupby('borough').size()\n",
    "print(grouped)"
   ]
  },
  {
   "cell_type": "markdown",
   "id": "5112430c-5509-4aa4-8dee-3c3ea5a9b853",
   "metadata": {},
   "source": [
    "We can take this further, let's see what the most common complaint is based on borough. Noting again we are taking advantage of the cuDF acceleration without having to change our pandas code. "
   ]
  },
  {
   "cell_type": "code",
   "execution_count": 14,
   "id": "4c0b6da4-0464-44da-af06-fa2c67c3560a",
   "metadata": {},
   "outputs": [
    {
     "name": "stdout",
     "output_type": "stream",
     "text": [
      "                    complaint_type  count\n",
      "borough                                  \n",
      "BRONX          Noise - Residential     48\n",
      "BROOKLYN       Noise - Residential     58\n",
      "MANHATTAN      Noise - Residential     51\n",
      "QUEENS             Illegal Parking     72\n",
      "STATEN ISLAND  Noise - Residential      4\n"
     ]
    },
    {
     "data": {
      "text/html": [
       "<pre style=\"white-space:pre;overflow-x:auto;line-height:normal;font-family:Menlo,'DejaVu Sans Mono',consolas,'Courier New',monospace\"><span style=\"font-style: italic\">                                                                                                           </span>\n",
       "<span style=\"font-style: italic\">                                         Total time elapsed: 0.166 seconds                                 </span>\n",
       "<span style=\"font-style: italic\">                                       8 GPU function calls in 0.052 seconds                               </span>\n",
       "<span style=\"font-style: italic\">                                       0 CPU function calls in 0.000 seconds                               </span>\n",
       "<span style=\"font-style: italic\">                                                                                                           </span>\n",
       "<span style=\"font-style: italic\">                                                       Stats                                               </span>\n",
       "<span style=\"font-style: italic\">                                                                                                           </span>\n",
       "┏━━━━━━━━━━━━━━━━━━━━━━━┳━━━━━━━━━━━━┳━━━━━━━━━━━━━┳━━━━━━━━━━━━━┳━━━━━━━━━━━━┳━━━━━━━━━━━━━┳━━━━━━━━━━━━━┓\n",
       "┃<span style=\"font-weight: bold\"> Function              </span>┃<span style=\"font-weight: bold\"> GPU ncalls </span>┃<span style=\"font-weight: bold\"> GPU cumtime </span>┃<span style=\"font-weight: bold\"> GPU percall </span>┃<span style=\"font-weight: bold\"> CPU ncalls </span>┃<span style=\"font-weight: bold\"> CPU cumtime </span>┃<span style=\"font-weight: bold\"> CPU percall </span>┃\n",
       "┡━━━━━━━━━━━━━━━━━━━━━━━╇━━━━━━━━━━━━╇━━━━━━━━━━━━━╇━━━━━━━━━━━━━╇━━━━━━━━━━━━╇━━━━━━━━━━━━━╇━━━━━━━━━━━━━┩\n",
       "│ DataFrame.groupby     │ 2          │ 0.001       │ 0.001       │ 0          │ 0.000       │ 0.000       │\n",
       "│ GroupBy.size          │ 1          │ 0.021       │ 0.021       │ 0          │ 0.000       │ 0.000       │\n",
       "│ Series.reset_index    │ 1          │ 0.001       │ 0.001       │ 0          │ 0.000       │ 0.000       │\n",
       "│ DataFrame.sort_values │ 1          │ 0.005       │ 0.005       │ 0          │ 0.000       │ 0.000       │\n",
       "│ GroupBy.first         │ 1          │ 0.015       │ 0.015       │ 0          │ 0.000       │ 0.000       │\n",
       "│ DataFrame.__getitem__ │ 1          │ 0.001       │ 0.001       │ 0          │ 0.000       │ 0.000       │\n",
       "│ object.__str__        │ 1          │ 0.009       │ 0.009       │ 0          │ 0.000       │ 0.000       │\n",
       "└───────────────────────┴────────────┴─────────────┴─────────────┴────────────┴─────────────┴─────────────┘\n",
       "</pre>\n"
      ],
      "text/plain": [
       "\u001b[3m                                                                                                           \u001b[0m\n",
       "\u001b[3m                                         Total time elapsed: 0.166 seconds                                 \u001b[0m\n",
       "\u001b[3m                                       8 GPU function calls in 0.052 seconds                               \u001b[0m\n",
       "\u001b[3m                                       0 CPU function calls in 0.000 seconds                               \u001b[0m\n",
       "\u001b[3m                                                                                                           \u001b[0m\n",
       "\u001b[3m                                                       Stats                                               \u001b[0m\n",
       "\u001b[3m                                                                                                           \u001b[0m\n",
       "┏━━━━━━━━━━━━━━━━━━━━━━━┳━━━━━━━━━━━━┳━━━━━━━━━━━━━┳━━━━━━━━━━━━━┳━━━━━━━━━━━━┳━━━━━━━━━━━━━┳━━━━━━━━━━━━━┓\n",
       "┃\u001b[1m \u001b[0m\u001b[1mFunction             \u001b[0m\u001b[1m \u001b[0m┃\u001b[1m \u001b[0m\u001b[1mGPU ncalls\u001b[0m\u001b[1m \u001b[0m┃\u001b[1m \u001b[0m\u001b[1mGPU cumtime\u001b[0m\u001b[1m \u001b[0m┃\u001b[1m \u001b[0m\u001b[1mGPU percall\u001b[0m\u001b[1m \u001b[0m┃\u001b[1m \u001b[0m\u001b[1mCPU ncalls\u001b[0m\u001b[1m \u001b[0m┃\u001b[1m \u001b[0m\u001b[1mCPU cumtime\u001b[0m\u001b[1m \u001b[0m┃\u001b[1m \u001b[0m\u001b[1mCPU percall\u001b[0m\u001b[1m \u001b[0m┃\n",
       "┡━━━━━━━━━━━━━━━━━━━━━━━╇━━━━━━━━━━━━╇━━━━━━━━━━━━━╇━━━━━━━━━━━━━╇━━━━━━━━━━━━╇━━━━━━━━━━━━━╇━━━━━━━━━━━━━┩\n",
       "│ DataFrame.groupby     │ 2          │ 0.001       │ 0.001       │ 0          │ 0.000       │ 0.000       │\n",
       "│ GroupBy.size          │ 1          │ 0.021       │ 0.021       │ 0          │ 0.000       │ 0.000       │\n",
       "│ Series.reset_index    │ 1          │ 0.001       │ 0.001       │ 0          │ 0.000       │ 0.000       │\n",
       "│ DataFrame.sort_values │ 1          │ 0.005       │ 0.005       │ 0          │ 0.000       │ 0.000       │\n",
       "│ GroupBy.first         │ 1          │ 0.015       │ 0.015       │ 0          │ 0.000       │ 0.000       │\n",
       "│ DataFrame.__getitem__ │ 1          │ 0.001       │ 0.001       │ 0          │ 0.000       │ 0.000       │\n",
       "│ object.__str__        │ 1          │ 0.009       │ 0.009       │ 0          │ 0.000       │ 0.000       │\n",
       "└───────────────────────┴────────────┴─────────────┴─────────────┴────────────┴─────────────┴─────────────┘\n"
      ]
     },
     "metadata": {},
     "output_type": "display_data"
    }
   ],
   "source": [
    "%%cudf.pandas.profile\n",
    "grouped = df_311.groupby(['borough', 'complaint_type']).size().reset_index(name='count')\n",
    "most_common_complaints = grouped.sort_values('count', ascending=False).groupby('borough').first()\n",
    "\n",
    "print(most_common_complaints[['complaint_type', 'count']])"
   ]
  },
  {
   "cell_type": "markdown",
   "id": "c016617d-efe2-4404-9ab5-2bbf9408c076",
   "metadata": {},
   "source": [
    "Now take a look at other [pandas](https://pandas.pydata.org/docs/reference/frame.html#function-application-groupby-window) functions to gain additional insight about the dataset. Be sure to profile what you have to get a sense of how the GPU is being utilized!"
   ]
  },
  {
   "cell_type": "code",
   "execution_count": null,
   "id": "7936d2b5-b85b-482b-beed-2e7458cd833a",
   "metadata": {},
   "outputs": [],
   "source": [
    "# TODO: Write your own cudf.pandas code to gain additional insight from the 311 Call Dataset"
   ]
  },
  {
   "cell_type": "markdown",
   "id": "9860951c-bb1f-4669-ba25-c8d832fc0f0c",
   "metadata": {},
   "source": [
    "---\n",
    "\n",
    "**Please restart the kernel**"
   ]
  },
  {
   "cell_type": "code",
   "execution_count": 15,
   "id": "7053dc1d-bc5b-4c50-9948-18250ae42438",
   "metadata": {},
   "outputs": [
    {
     "data": {
      "text/plain": [
       "{'status': 'ok', 'restart': True}"
      ]
     },
     "execution_count": 15,
     "metadata": {},
     "output_type": "execute_result"
    }
   ],
   "source": [
    "import IPython\n",
    "app = IPython.Application.instance()\n",
    "app.kernel.do_shutdown(True)"
   ]
  },
  {
   "cell_type": "markdown",
   "id": "8ac0942e-a43b-4b53-b80b-413750c679c2",
   "metadata": {},
   "source": [
    "In this notebook, we've explored the fundamentals of RAPIDS cuDF and its potential for accelerating data manipulation tasks in Python. We've seen how cuDF can provide significant speedups over traditional pandas operations, particularly for large-scale datasets. Key takeaways include:\n",
    "\n",
    "1. cuDF offers a familiar pandas-like interface, making it easy to port existing code to GPU acceleration.\n",
    "2. The cudf.pandas extension allows for automatic GPU acceleration with zero code changes.\n",
    "3. Performance gains can be substantial, especially for operations like grouping and aggregation on large datasets.\n",
    "4. Real-world applications, such as analyzing the NYC 311 Service Request dataset, demonstrate the practical benefits of using cuDF.\n",
    "5. The built-in profiler helps identify which operations are running on the GPU and their execution times.\n",
    "\n",
    "This GPU-accelerated library empowers you to process and analyze massive datasets at lightning speed, unlocking insights that were once out of reach due to computational limitations."
   ]
  }
 ],
 "metadata": {
  "kernelspec": {
   "display_name": "rapids25.02",
   "language": "python",
   "name": "rapids25.02"
  },
  "language_info": {
   "codemirror_mode": {
    "name": "ipython",
    "version": 3
   },
   "file_extension": ".py",
   "mimetype": "text/x-python",
   "name": "python",
   "nbconvert_exporter": "python",
   "pygments_lexer": "ipython3",
   "version": "3.12.9"
  }
 },
 "nbformat": 4,
 "nbformat_minor": 5
}
