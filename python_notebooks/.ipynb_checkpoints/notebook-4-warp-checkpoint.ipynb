{
 "cells": [
  {
   "cell_type": "markdown",
   "id": "a60d5f8d-ef6f-43b3-838d-17f779db2335",
   "metadata": {},
   "source": [
    "#### **Notebook 4: Introduction to Warp**\n"
   ]
  },
  {
   "cell_type": "markdown",
   "id": "ee35a01f-6a92-48b4-ab89-445b14c2704f",
   "metadata": {},
   "source": [
    "This notebook provides an introduction to [Warp](https://developer.nvidia.com/warp-python), a Python framework that enables developers and researchers to write GPU-accelerated and differentiable kernels. Warp allows you to leverage the power of GPUs to significantly speed up computations, making it especially useful for scientific computing, simulations, and machine learning tasks.\n",
    "\n",
    "Throughout this tutorial, we'll cover:\n",
    "1. Basic Warp operations and kernel creation\n",
    "2. An N-body simulation to showcase Warp's power in complex physics calculations\n",
    "3. A finite element modeling example, illustrating Warp's versatility in numerical methods\n",
    "   \n",
    "By the end of this notebook, you'll have a solid foundation in using Warp for GPU-accelerated computing in Python, enabling you to tackle computationally intensive tasks with improved efficiency and speed."
   ]
  },
  {
   "cell_type": "markdown",
   "id": "3c30b341-2f88-4236-b8f4-f6e576ef9b36",
   "metadata": {},
   "source": [
    "---\n",
    "**Warp core**\n",
    "\n",
    "Let's begin by importing the necessary libraries and initializing Warp. The `wp.init()` initializes the CUDA toolkit and driver, detects and initializes the CPU and GPU, sets up the kernel cache directory, and prints out initialization information."
   ]
  },
  {
   "cell_type": "code",
   "execution_count": null,
   "id": "2beba56c-3d8c-414a-892e-fa4054eda45e",
   "metadata": {},
   "outputs": [],
   "source": [
    "import numpy as np\n",
    "import warp as wp\n",
    "import matplotlib.pyplot as plt\n",
    "\n",
    "wp.init()"
   ]
  },
  {
   "cell_type": "markdown",
   "id": "86cfae20-f245-49f6-9636-c6814147bc61",
   "metadata": {},
   "source": [
    "Let's start with an example. Here, we define a kernel that computes the distance of each 3D point from the origin. When we use the `@wp.kernel` decorator that indicates that this function will run on the GPU. As input we take in an array of 3D points and an array to store the computed lengths. \n",
    "\n",
    "Note, `tid` indicates that each thread on the GPU will process one point."
   ]
  },
  {
   "cell_type": "code",
   "execution_count": null,
   "id": "a4e0e1df-dfa8-47ee-b910-0c951a2deefa",
   "metadata": {},
   "outputs": [],
   "source": [
    "num_points = 1024\n",
    "\n",
    "@wp.kernel\n",
    "def length(points: wp.array(dtype=wp.vec3),\n",
    "           lengths: wp.array(dtype=float)):\n",
    "\n",
    "    tid = wp.tid()\n",
    "    lengths[tid] = wp.length(points[tid])"
   ]
  },
  {
   "cell_type": "markdown",
   "id": "c0576b17-da89-46c2-8c04-6fc9ba92d051",
   "metadata": {},
   "source": [
    "Now we allocate an array of random 3D points and an array to store the lengths. This will be the data we pass into our `length` kernel above."
   ]
  },
  {
   "cell_type": "code",
   "execution_count": null,
   "id": "a9313ea5-a536-4742-9a95-c973efe00523",
   "metadata": {},
   "outputs": [],
   "source": [
    "points = wp.array(np.random.rand(num_points, 3), dtype=wp.vec3)\n",
    "lengths = wp.zeros(num_points, dtype=float)"
   ]
  },
  {
   "cell_type": "markdown",
   "id": "0060c41a-d3c0-41d9-8bca-7e3fb30d4889",
   "metadata": {},
   "source": [
    "Now we can launch our first warp kernel! In the end we are able to then print the outputed lengths!"
   ]
  },
  {
   "cell_type": "code",
   "execution_count": null,
   "id": "063e8387-a8fd-43d2-ad2a-c3eadf8c1add",
   "metadata": {},
   "outputs": [],
   "source": [
    "wp.launch(kernel=length,\n",
    "          dim=len(points),\n",
    "          inputs=[points, lengths])\n",
    "\n",
    "print(lengths)"
   ]
  },
  {
   "cell_type": "markdown",
   "id": "b3edb41e-ab9d-4673-ad31-ee63c1f2a203",
   "metadata": {},
   "source": [
    "We can also measure the execution time of a Warp kernel. The `ScopedTimer` context will measure how long it takes to define and compile this multiplication kernel."
   ]
  },
  {
   "cell_type": "code",
   "execution_count": null,
   "id": "a5220a99-ea68-4c21-bc9d-ebcaf6015af6",
   "metadata": {},
   "outputs": [],
   "source": [
    "with wp.ScopedTimer(\"Multiply Kernel\", synchronize=True):\n",
    "    @wp.kernel\n",
    "    def multiply_kernel(\n",
    "        a: wp.array(dtype=float),\n",
    "        b: wp.array(dtype=float),\n",
    "        c: wp.array(dtype=float),\n",
    "    \n",
    "    ):\n",
    "        i = wp.tid()\n",
    "        c[i] = a[i] * b[i]"
   ]
  },
  {
   "cell_type": "markdown",
   "id": "8e25ca63-f53b-4dc7-9414-978e06fe4247",
   "metadata": {},
   "source": [
    "---"
   ]
  },
  {
   "cell_type": "markdown",
   "id": "d8b36318-648b-4ab8-a0b7-6dfd9644ca69",
   "metadata": {},
   "source": [
    "**N-body Sample**\n",
    "\n",
    "Now, let's explore a more complex example: an [N-body simulation](https://developer.nvidia.com/gpugems/gpugems3/part-v-physics-simulation/chapter-31-fast-n-body-simulation-cuda). This simulation numerically approximates the evolution of a system of bodies, where each body continuously interacts with every other body.\n",
    "\n",
    "As parameters we will take a time step, number of bodies, and a softening factor."
   ]
  },
  {
   "cell_type": "code",
   "execution_count": null,
   "id": "cd7c0609-b077-4180-adcb-db605f745a17",
   "metadata": {},
   "outputs": [],
   "source": [
    "dt = 0.01\n",
    "num_bodies = 1024\n",
    "SOFTENING_SQ = 0.1**2"
   ]
  },
  {
   "cell_type": "markdown",
   "id": "03b31c31-46e9-4ddf-b102-9b207b6e04a0",
   "metadata": {},
   "source": [
    "Next we will initialize arrays for positions, velocities, and masses of the bodies. Notice, we are using NumPy to generate random initial conditions on the CPU, then transfers this data to Warp arrays on the GPU for efficient computation. This is very similar to the workflow we observed with converting NumPy arrays to CuPy arrays!"
   ]
  },
  {
   "cell_type": "code",
   "execution_count": null,
   "id": "20630160-d10c-430f-8162-b84da337cba8",
   "metadata": {},
   "outputs": [],
   "source": [
    "def init_problem():\n",
    "    global pos_array_0, pos_array_1, vel_array, mass_array, scale, init_pos_np\n",
    "    \n",
    "    rng = np.random.default_rng(42)\n",
    "    scale = 10.0 * (num_bodies / 1024) ** (1 / 3)\n",
    "    init_pos_np = rng.uniform(low=-scale, high=scale, size=(num_bodies, 3))\n",
    "    init_vel_np = rng.uniform(low=-1.0, high=1.0, size=(num_bodies, 3))\n",
    "    mass_array_np = np.ones(num_bodies)\n",
    "    \n",
    "    pos_array_0 = wp.array(init_pos_np, dtype=wp.vec3)\n",
    "    pos_array_1 = wp.empty_like(pos_array_0)\n",
    "    vel_array = wp.array(init_vel_np, dtype=wp.vec3)\n",
    "    mass_array = wp.array(mass_array_np, dtype=wp.float32)\n",
    "\n",
    "\n",
    "init_problem()"
   ]
  },
  {
   "cell_type": "markdown",
   "id": "eb11551d-75de-4202-af03-a29ecea47ea4",
   "metadata": {},
   "source": [
    "This function computes the acceleration of a body due to gravitational interactions with all other bodies."
   ]
  },
  {
   "cell_type": "code",
   "execution_count": null,
   "id": "597b037e-f44f-4b86-b4f8-46e92bfc2097",
   "metadata": {},
   "outputs": [],
   "source": [
    "@wp.func\n",
    "def body_body_interaction(\n",
    "    num_bodies: int,\n",
    "    masses: wp.array(dtype=float),\n",
    "    body_position: wp.vec3, \n",
    "    positions: wp.array(dtype=wp.vec3)\n",
    "):\n",
    "\n",
    "    acc = wp.vec3(0.0, 0.0, 0.0)\n",
    "    for body_index in range(num_bodies):\n",
    "        r = positions[body_index] - body_position\n",
    "        dist_sq = wp.length_sq(r) + SOFTENING_SQ\n",
    "        inv_dist = 1.0 / wp.sqrt(dist_sq)\n",
    "        inv_dist_cubed = inv_dist * inv_dist * inv_dist\n",
    "        acc = acc + masses[body_index] * inv_dist_cubed * r\n",
    "\n",
    "    return acc"
   ]
  },
  {
   "cell_type": "markdown",
   "id": "1ed87f7f-9dbf-49e8-97b2-db7190f674aa",
   "metadata": {},
   "source": [
    "This code sets up the initial conditions for an N-body simulation. It defines parameters like time step, number of bodies, and a softening factor to prevent numerical instabilities. The init_problem function initializes arrays for positions, velocities, and masses of the bodies. It uses NumPy to generate random initial conditions on the CPU, then transfers this data to Warp arrays on the GPU for efficient computation."
   ]
  },
  {
   "cell_type": "code",
   "execution_count": null,
   "id": "ace899af-7f5d-4c9b-b584-a6e38dccc54a",
   "metadata": {},
   "outputs": [],
   "source": [
    "@wp.kernel\n",
    "def integrate_bodies(\n",
    "    num_bodies: int,\n",
    "    dt: float,\n",
    "    masses: wp.array(dtype=float),\n",
    "    old_position: wp.array(dtype=wp.vec3),\n",
    "    velocity: wp.array(dtype=wp.vec3),\n",
    "    new_position: wp.array(dtype=wp.vec3),\n",
    "):\n",
    "    i = wp.tid()\n",
    "    accel = body_body_interaction(num_bodies, masses, old_position[i], old_position)\n",
    "    velocity[i] = velocity[i] + accel * dt\n",
    "    new_position[i] = old_position[i] + dt * velocity[i]\n",
    " "
   ]
  },
  {
   "cell_type": "markdown",
   "id": "c1633968-3a38-4209-925c-970b068fb25a",
   "metadata": {},
   "source": [
    "Now we need our function that will advance the simulation by one time step. The function uses global to access and modify `pos_array_0` and `pos_array_1`, which store the positions of bodies across two time steps. After the kernel execution, it swaps `pos_array_0` and `pos_array_1`. This efficient technique avoids copying data, allowing the newly calculated positions to become the current positions for the next time step."
   ]
  },
  {
   "cell_type": "code",
   "execution_count": null,
   "id": "4e8bcfa4-772b-4091-a2d9-129fd3240238",
   "metadata": {},
   "outputs": [],
   "source": [
    "def integrate():\n",
    "    global pos_array_0, pos_array_1\n",
    "    \n",
    "    wp.launch(\n",
    "        integrate_bodies,\n",
    "        dim=(num_bodies,),\n",
    "        inputs=[num_bodies, dt, mass_array, pos_array_0, vel_array, pos_array_1],\n",
    "    )\n",
    "    \n",
    "    (pos_array_0, pos_array_1) = (pos_array_1, pos_array_0)"
   ]
  },
  {
   "cell_type": "markdown",
   "id": "2049ff2e-1459-41bb-b023-430d21c449ba",
   "metadata": {},
   "source": [
    "Let's reset our problem state and run 1000 steps of our simulation."
   ]
  },
  {
   "cell_type": "code",
   "execution_count": null,
   "id": "7c2411cb-0e1a-4b18-8d6e-a026d9a83d15",
   "metadata": {},
   "outputs": [],
   "source": [
    "init_problem()\n",
    "\n",
    "with wp.ScopedTimer(\"1000 Integration Steps \", synchronize=True):\n",
    "    for _step_index in range(1000):\n",
    "        integrate()"
   ]
  },
  {
   "cell_type": "markdown",
   "id": "cbed0166-2bc5-4986-a21e-0d5c707e3c31",
   "metadata": {},
   "source": [
    "We can take this one step further and visualizae each iteration of our simulation. Let's create a function that will update our plot according to the output of our `integration` function. "
   ]
  },
  {
   "cell_type": "code",
   "execution_count": null,
   "id": "cadabb05-3c56-4fc2-8c7d-e4d703f55395",
   "metadata": {},
   "outputs": [],
   "source": [
    "def update_plot(frame):\n",
    "    integrate()\n",
    "    positions_cpu = pos_array_0.numpy()\n",
    "\n",
    "    scatter_plot._offsets3d = (\n",
    "        positions_cpu[:, 0],\n",
    "        positions_cpu[:, 1],\n",
    "        positions_cpu[:, 2],\n",
    "    )\n",
    "    return (scatter_plot,)"
   ]
  },
  {
   "cell_type": "markdown",
   "id": "279594f3-eef1-4fb0-b95a-0f746f083b9d",
   "metadata": {},
   "source": [
    "Finally, we setup the rest of the variables for our visualization!"
   ]
  },
  {
   "cell_type": "code",
   "execution_count": null,
   "id": "79a1ad74-549f-42bb-974f-459360fbd54b",
   "metadata": {},
   "outputs": [],
   "source": [
    "from matplotlib.animation import FuncAnimation\n",
    "\n",
    "fig = plt.figure()\n",
    "ax = fig.add_subplot(111, projection=\"3d\")\n",
    "scatter_plot = ax.scatter(init_pos_np[:, 0], init_pos_np[:, 1], init_pos_np[:, 2], c=\"#76b900\", alpha=0.5)\n",
    "ax.set_xlim(-scale, scale)\n",
    "ax.set_ylim(-scale, scale)\n",
    "ax.set_zlim(-scale, scale)\n",
    "\n",
    "anim = FuncAnimation(fig, update_plot, frames=range(1000), interval=10, blit=True, repeat=False)\n",
    "\n",
    "plt.show()"
   ]
  },
  {
   "cell_type": "markdown",
   "id": "49189b91-5e58-42ab-969a-3ece062d00f4",
   "metadata": {},
   "source": [
    "---"
   ]
  },
  {
   "cell_type": "markdown",
   "id": "9e05230b-33be-4f31-bf32-57f7dca129a1",
   "metadata": {},
   "source": [
    "**Finite Element Modeling Example**\n",
    "\n",
    "Finally, warp offers a flexible finite element-based (FEM/DG) framework for diffusion, convection, fluid flow, and elasticity.\n",
    "\n",
    "This code defines a bilinear form for the diffusion equation. The `@fem.integrand decorator` indicates that this function will be used in the finite element integration process. The function takes sample points, a trial function, a test function, and a diffusion coefficient. It returns the scaled dot product of the gradients, which represents the weak form of the diffusion equation."
   ]
  },
  {
   "cell_type": "code",
   "execution_count": null,
   "id": "958bbc8c-b107-49e9-9772-9046f5b4d0d8",
   "metadata": {},
   "outputs": [],
   "source": [
    "import warp.fem as fem\n",
    "@fem.integrand\n",
    "\n",
    "def diffusion_form(s: fem.Sample, u: fem.Field, v: fem.Field, nu: float):\n",
    "    return nu * wp.dot(\n",
    "        fem.grad(u, s),\n",
    "        fem.grad(v, s),\n",
    ")"
   ]
  },
  {
   "cell_type": "markdown",
   "id": "dbf4a1ac-08e4-49d7-b319-cdfbf5480bf5",
   "metadata": {},
   "source": [
    "We define a geometry for a simple tetrahedral mesh. The positions specifies the coordinates of the vertices, while the indices array defines how these vertices are connected to form tetrahedra. This mesh represents a cube divided into five tetrahedra."
   ]
  },
  {
   "cell_type": "code",
   "execution_count": null,
   "id": "44dba329-e2f1-4088-b7d0-31dc31b6b89e",
   "metadata": {},
   "outputs": [],
   "source": [
    "positions = wp.array([\n",
    "    [0.0, 0.0, 0.0],\n",
    "    [1.0, 0.0, 0.0],\n",
    "    [0.0, 1.0, 0.0],\n",
    "    [0.0, 0.0, 1.0],\n",
    "    [1.0, 1.0, 1.0]\n",
    "], dtype=wp.vec3)\n",
    "\n",
    "indices = wp.array([\n",
    "    [0, 1, 2, 4],\n",
    "    [0, 1, 3, 4],\n",
    "    [0, 2, 3, 4],\n",
    "    [1, 2, 3, 4],\n",
    "    [0, 1, 2, 3]\n",
    "], dtype=wp.int32)"
   ]
  },
  {
   "cell_type": "markdown",
   "id": "95b3358e-cd22-4956-ba83-01534cdc256e",
   "metadata": {},
   "source": [
    "We create a Tetmesh object and define a polynomial function space over this geometry using [quadratic Serendipity elements](https://nvidia.github.io/warp/modules/fem.html#warp.fem.ElementBasis). This space will be used to approximate our solution."
   ]
  },
  {
   "cell_type": "code",
   "execution_count": null,
   "id": "e9e94603-8ef5-4814-a38f-80607565b51a",
   "metadata": {},
   "outputs": [],
   "source": [
    "geo = fem.Tetmesh(positions=positions, tet_vertex_indices=indices)\n",
    "scalar_space = fem.make_polynomial_space(\n",
    "geo, degree=2, element_basis=fem.ElementBasis.SERENDIPITY)"
   ]
  },
  {
   "cell_type": "markdown",
   "id": "6015031e-4f85-4f6e-896d-88417e2c4137",
   "metadata": {},
   "source": [
    "Finally, we define trial and test functions based on our scalar space. The `fem.integrate` function then assembles the stiffness matrix by integrating our bilinear form over the domain. "
   ]
  },
  {
   "cell_type": "code",
   "execution_count": null,
   "id": "721ea973-bdc2-44e7-bf9b-6ca227a90999",
   "metadata": {},
   "outputs": [],
   "source": [
    "trial = fem.make_trial(scalar_space)\n",
    "test = fem.make_test(scalar_space)\n",
    "matrix = fem.integrate(diffusion_form,\n",
    "            fields={\"u\": trial, \"v\": test},\n",
    "            values={\"nu\": 0.1})\n",
    "\n",
    "print(f\"Stiffness matrix dimensions: {matrix.shape}\")\n"
   ]
  },
  {
   "cell_type": "markdown",
   "id": "ab44dadc-068b-4165-93d3-656d62d14d7f",
   "metadata": {},
   "source": [
    "---\n",
    "\n",
    "**Please restart the kernel**"
   ]
  },
  {
   "cell_type": "code",
   "execution_count": null,
   "id": "50cc4fa9-4d0d-4a18-a82f-af1ff9695084",
   "metadata": {},
   "outputs": [],
   "source": [
    "import IPython\n",
    "app = IPython.Application.instance()\n",
    "app.kernel.do_shutdown(True)"
   ]
  },
  {
   "cell_type": "markdown",
   "id": "5256a61e-3dc3-4488-a745-28d81dcf70c5",
   "metadata": {},
   "source": [
    "In this notebook, we've explored the fundamentals of Warp and its potential for accelerating computational tasks in Python.  Key takeaways include:\n",
    "\n",
    "1. Warp offers a straightforward way to write GPU-accelerated kernels in Python, making it accessible to developers familiar with NumPy and similar libraries.\n",
    "2. The N-body simulation demonstrated Warp's power in handling computationally intensive physics calculations efficiently.\n",
    "3. The finite element modeling example showcased Warp's versatility in implementing advanced numerical methods.\n",
    "\n",
    "This GPU-accelerated framework empowers you to tackle intricate simulations, advanced scientific computations, and complex machine learning challenges with speed and efficiency. "
   ]
  }
 ],
 "metadata": {
  "kernelspec": {
   "display_name": "rapids25.02",
   "language": "python",
   "name": "rapids25.02"
  },
  "language_info": {
   "codemirror_mode": {
    "name": "ipython",
    "version": 3
   },
   "file_extension": ".py",
   "mimetype": "text/x-python",
   "name": "python",
   "nbconvert_exporter": "python",
   "pygments_lexer": "ipython3",
   "version": "3.12.9"
  }
 },
 "nbformat": 4,
 "nbformat_minor": 5
}
