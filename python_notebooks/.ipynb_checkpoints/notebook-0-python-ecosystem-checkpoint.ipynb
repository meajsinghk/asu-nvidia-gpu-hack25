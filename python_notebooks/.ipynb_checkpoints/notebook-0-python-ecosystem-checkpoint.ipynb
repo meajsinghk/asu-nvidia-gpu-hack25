{
 "cells": [
  {
   "cell_type": "markdown",
   "id": "4941058a-6c14-4330-8dee-a9e137c516f3",
   "metadata": {},
   "source": [
    "## **Notebook 0: The Accelerated Python Ecosystem**"
   ]
  },
  {
   "cell_type": "markdown",
   "id": "91eb0b75",
   "metadata": {},
   "source": [
    "This notebook serves as an introduction to various GPU-accelerated Python libraries and tools. A one-stop-shop for useful links!\n",
    "\n",
    "**Ecosystem Overview**"
   ]
  },
  {
   "cell_type": "markdown",
   "id": "406e7e26",
   "metadata": {},
   "source": [
    "In this workshop we will be focused on three main libraries:\n",
    "\n",
    "1. [CuPy](https://cupy.dev/): A [NumPy-compatible](https://numpy.org/) array library for GPU-accelerated computing in Python. It provides a drop-in replacement for many NumPy functions, allowing easy GPU acceleration of existing NumPy code.\n",
    "\n",
    "2. [RAPIDS](https://developer.nvidia.com/rapids): An open-source suite of GPU-accelerated data science and AI libraries, with drop-in replacement for libraries like pandas and scikit-learn. \n",
    "\n",
    "3. [Warp](https://github.com/NVIDIA/warp): A Python framework for writing and doing JIT compilation on high-performance simulation and graphics code. Code is differentiable and interoperable with popular ML frameworks. "
   ]
  },
  {
   "cell_type": "markdown",
   "id": "ae5a2198-c05a-4ae7-9a19-c784d1d042f4",
   "metadata": {},
   "source": [
    "However, the Python ecosystem encompasses much more than just these three, here are some other libraries for you to try after today's workshop!\n",
    "\n",
    "- [CUDA Python](https://github.com/NVIDIA/cuda-python): Allows access to the NVIDIA [CUDA](https://developer.nvidia.com/cuda-toolkit) platform from within the Python ecosystem.\n",
    "- [nvmath-python](https://developer.nvidia.com/nvmath-python): A beta library to get access to [CUDA-X math libraries](https://developer.nvidia.com/gpu-accelerated-libraries) from within the Python ecosystem.\n",
    "- [Numba](https://numba.pydata.org/): A JIT compiler for Python and NumPy code which can run on the CPU or the GPU.\n",
    "- [cuPyNumeric](https://github.com/nv-legate/cupynumeric): A Legate library for doing distributed accelerated computing across multiple GPUs or nodes. "
   ]
  },
  {
   "cell_type": "markdown",
   "id": "8d69b1bc-4d48-450e-a1ad-90b8e6ac476b",
   "metadata": {},
   "source": [
    "---"
   ]
  },
  {
   "cell_type": "markdown",
   "id": "52ce7f18-b43d-4beb-afe5-4834612604f3",
   "metadata": {},
   "source": [
    "**Introduction to Workshop Lab Environment**"
   ]
  },
  {
   "cell_type": "markdown",
   "id": "8fe05310-7998-4a4f-a660-f762f3359fab",
   "metadata": {},
   "source": [
    "Markdown cells contain plain text, and code cells contain interactive Python code."
   ]
  },
  {
   "cell_type": "code",
   "execution_count": null,
   "id": "2d06d849-08b0-4dfc-b76d-b60be5b172cf",
   "metadata": {},
   "outputs": [],
   "source": [
    "print(\"Hello World!!!\")"
   ]
  },
  {
   "cell_type": "markdown",
   "id": "5c0f80bd-c004-4d16-9f1b-974c971d2235",
   "metadata": {},
   "source": [
    "We can also run shell commands by prepending an exclamation mark to our code cells. Let's query for some basic information about our system. `nvidia-smi` is like `top` for NVIDIA GPUs."
   ]
  },
  {
   "cell_type": "code",
   "execution_count": null,
   "id": "b74837c5-d1ed-4a7f-ba8c-a0d99c668093",
   "metadata": {},
   "outputs": [],
   "source": [
    "!nvidia-smi"
   ]
  },
  {
   "cell_type": "markdown",
   "id": "fa2c68ba-47c7-4f75-ba06-2244fc1ce936",
   "metadata": {},
   "source": [
    "And finally, let's check out the type of CPU we were allocated."
   ]
  },
  {
   "cell_type": "code",
   "execution_count": null,
   "id": "77ce24e3-22d0-4cd8-9691-132259ef2bdf",
   "metadata": {},
   "outputs": [],
   "source": [
    "!lscpu"
   ]
  },
  {
   "cell_type": "markdown",
   "id": "82076ac4-4ec3-4913-a891-87f029760155",
   "metadata": {},
   "source": [
    "---\n",
    "\n",
    "**Please restart the kernel**"
   ]
  },
  {
   "cell_type": "code",
   "execution_count": null,
   "id": "63cbe283-6890-4758-b8b6-9d5f6d3fdfa6",
   "metadata": {},
   "outputs": [],
   "source": [
    "import IPython\n",
    "app = IPython.Application.instance()\n",
    "app.kernel.do_shutdown(True)"
   ]
  },
  {
   "cell_type": "code",
   "execution_count": null,
   "id": "5433bd71-a714-4b71-802c-073b8f8f8370",
   "metadata": {},
   "outputs": [],
   "source": []
  }
 ],
 "metadata": {
  "kernelspec": {
   "display_name": "rapids25.02",
   "language": "python",
   "name": "rapids25.02"
  },
  "language_info": {
   "codemirror_mode": {
    "name": "ipython",
    "version": 3
   },
   "file_extension": ".py",
   "mimetype": "text/x-python",
   "name": "python",
   "nbconvert_exporter": "python",
   "pygments_lexer": "ipython3",
   "version": "3.12.9"
  }
 },
 "nbformat": 4,
 "nbformat_minor": 5
}
